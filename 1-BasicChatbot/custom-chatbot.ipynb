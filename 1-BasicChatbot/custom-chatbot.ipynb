{
 "cells": [
  {
   "cell_type": "code",
   "execution_count": 29,
   "id": "2f9226bf",
   "metadata": {},
   "outputs": [],
   "source": [
    "from typing import Annotated\n",
    "\n",
    "from typing_extensions import TypedDict\n",
    "\n",
    "from langgraph.graph import StateGraph, START, END\n",
    "from langgraph.graph.message import add_messages\n"
   ]
  },
  {
   "cell_type": "code",
   "execution_count": 8,
   "id": "cfe7b482",
   "metadata": {},
   "outputs": [],
   "source": [
    "class State(TypedDict):\n",
    "    # Messages have the type \"list\". The `add_messages` function\n",
    "    # in the annotation defines how this state key should be updated\n",
    "    # (in this case, it appends messages to the list, rather than overwriting them)\n",
    "    messages: Annotated[list, add_messages]\n"
   ]
  },
  {
   "cell_type": "code",
   "execution_count": 9,
   "id": "06015c46",
   "metadata": {},
   "outputs": [
    {
     "data": {
      "text/plain": [
       "False"
      ]
     },
     "execution_count": 9,
     "metadata": {},
     "output_type": "execute_result"
    }
   ],
   "source": [
    "import os\n",
    "from dotenv import load_dotenv\n",
    "\n",
    "load_dotenv()\n"
   ]
  },
  {
   "cell_type": "code",
   "execution_count": 30,
   "id": "59f472b7",
   "metadata": {},
   "outputs": [
    {
     "data": {
      "text/plain": [
       "ChatOllama(model='llama3.2')"
      ]
     },
     "execution_count": 30,
     "metadata": {},
     "output_type": "execute_result"
    }
   ],
   "source": [
    "from langchain_ollama import ChatOllama\n",
    "from langchain.chat_models import init_chat_model\n",
    "\n",
    "llm = ChatOllama(model=\"llama3.2\")\n",
    "llm"
   ]
  },
  {
   "cell_type": "code",
   "execution_count": 31,
   "id": "be6ff99a",
   "metadata": {},
   "outputs": [],
   "source": [
    "## Node Functionality\n",
    "def chatbot(state: State):\n",
    "    return {\"messages\": [llm.invoke(state[\"messages\"])]}\n"
   ]
  },
  {
   "cell_type": "code",
   "execution_count": 32,
   "id": "bd17b5cd",
   "metadata": {},
   "outputs": [],
   "source": [
    "graph_builder = StateGraph(State)\n",
    "\n",
    "## Adding node\n",
    "graph_builder.add_node(\"llmchatbot\", chatbot)\n",
    "## Adding Edges\n",
    "graph_builder.add_edge(START, \"llmchatbot\")\n",
    "graph_builder.add_edge(\"llmchatbot\", END)\n",
    "\n",
    "## compile the graph\n",
    "graph = graph_builder.compile()\n"
   ]
  },
  {
   "cell_type": "code",
   "execution_count": 33,
   "id": "9ffa8b12",
   "metadata": {},
   "outputs": [],
   "source": [
    "## Visualize the graph\n",
    "from IPython.display import Image, display\n",
    "\n",
    "try:\n",
    "    display(Image(graph.get_graph().draw_mermaid_png()))\n",
    "except Exception:\n",
    "    pass\n"
   ]
  },
  {
   "cell_type": "code",
   "execution_count": 34,
   "id": "c1801340",
   "metadata": {},
   "outputs": [
    {
     "data": {
      "text/plain": [
       "'How can I assist you today?'"
      ]
     },
     "execution_count": 34,
     "metadata": {},
     "output_type": "execute_result"
    }
   ],
   "source": [
    "response = graph.invoke({\"messages\": \"Hi\"})\n",
    "response.get(\"messages\")[-1].content\n"
   ]
  },
  {
   "cell_type": "code",
   "execution_count": 35,
   "id": "5a81a2ba",
   "metadata": {},
   "outputs": [
    {
     "name": "stdout",
     "output_type": "stream",
     "text": [
      "I'm just a language model, so I don't have feelings or emotions like humans do. However, I'm functioning properly and ready to help with any questions or tasks you may have! How can I assist you today?\n"
     ]
    }
   ],
   "source": [
    "for event in graph.stream({\"messages\": \"Hi How are you\"}):\n",
    "    for value in event.values():\n",
    "        print(value['messages'][-1].content)\n"
   ]
  },
  {
   "cell_type": "code",
   "execution_count": 46,
   "id": "08b96289",
   "metadata": {},
   "outputs": [],
   "source": [
    "def multiply(a: int, b: int) -> int:\n",
    "    \"\"\"Multiply a and b\n",
    "\n",
    "    Args:\n",
    "        a (int): first int\n",
    "        b (int): second int\n",
    "\n",
    "    Returns:\n",
    "        int: output int\n",
    "    \"\"\"\n",
    "    return a * b\n",
    "\n",
    "def addition(a: int, b: int) -> int:\n",
    "    \"\"\"Addition a and b\n",
    "\n",
    "    Args:\n",
    "        a (int): first int\n",
    "        b (int): second int\n",
    "\n",
    "    Returns:\n",
    "        int: output int\n",
    "    \"\"\"\n",
    "    return a + b\n"
   ]
  },
  {
   "cell_type": "code",
   "execution_count": 47,
   "id": "bad0e39e",
   "metadata": {},
   "outputs": [
    {
     "data": {
      "text/plain": [
       "RunnableBinding(bound=ChatOllama(model='llama3.2'), kwargs={'tools': [{'type': 'function', 'function': {'name': 'multiply', 'description': 'Multiply a and b', 'parameters': {'properties': {'a': {'description': 'first int', 'type': 'integer'}, 'b': {'description': 'second int', 'type': 'integer'}}, 'required': ['a', 'b'], 'type': 'object'}}}, {'type': 'function', 'function': {'name': 'addition', 'description': 'Addition a and b', 'parameters': {'properties': {'a': {'description': 'first int', 'type': 'integer'}, 'b': {'description': 'second int', 'type': 'integer'}}, 'required': ['a', 'b'], 'type': 'object'}}}]}, config={}, config_factories=[])"
      ]
     },
     "execution_count": 47,
     "metadata": {},
     "output_type": "execute_result"
    }
   ],
   "source": [
    "tools = [multiply, addition]\n",
    "llm_with_tools=llm.bind_tools(tools)\n",
    "llm_with_tools\n"
   ]
  },
  {
   "cell_type": "code",
   "execution_count": 39,
   "id": "3ffc6449",
   "metadata": {},
   "outputs": [],
   "source": [
    "## Stategraph\n",
    "from langgraph.graph import StateGraph, START, END\n",
    "from langgraph.prebuilt import ToolNode\n",
    "from langgraph.prebuilt import tools_condition\n",
    "\n",
    "\n",
    "## Node definition\n",
    "def tool_calling_llm(state: State):\n",
    "    return {\"messages\": [llm_with_tools.invoke(state[\"messages\"])]}\n",
    "\n",
    "\n",
    "## Grpah\n",
    "builder = StateGraph(State)\n",
    "builder.add_node(\"tool_calling_llm\", tool_calling_llm)\n",
    "builder.add_node(\"tools\", ToolNode(tools))\n",
    "\n",
    "## Add Edges\n",
    "builder.add_edge(START, \"tool_calling_llm\")\n",
    "builder.add_conditional_edges(\n",
    "    \"tool_calling_llm\",\n",
    "    # If the latest message (result) from assistant is a tool call -> tools_condition routes to tools\n",
    "    # If the latest message (result) from assistant is a not a tool call -> tools_condition routes to END\n",
    "    tools_condition,\n",
    ")\n",
    "builder.add_edge(\"tools\", END)\n",
    "\n",
    "## compile the graph\n",
    "graph = builder.compile()\n"
   ]
  },
  {
   "cell_type": "code",
   "execution_count": 43,
   "id": "5fdad245",
   "metadata": {},
   "outputs": [
    {
     "name": "stdout",
     "output_type": "stream",
     "text": [
      "================================\u001b[1m Human Message \u001b[0m=================================\n",
      "\n",
      "What is the multiplication of 2* 5 \n",
      "==================================\u001b[1m Ai Message \u001b[0m==================================\n",
      "Tool Calls:\n",
      "  multiply (161f13d7-df6f-4931-9370-1523874fe28c)\n",
      " Call ID: 161f13d7-df6f-4931-9370-1523874fe28c\n",
      "  Args:\n",
      "    a: 10\n",
      "    b: 5\n",
      "=================================\u001b[1m Tool Message \u001b[0m=================================\n",
      "Name: multiply\n",
      "\n",
      "50\n"
     ]
    }
   ],
   "source": [
    "response = graph.invoke({\"messages\": \"What is the multiplication of 2* 5 \"})\n",
    "for m in response[\"messages\"]:\n",
    "    m.pretty_print()"
   ]
  },
  {
   "cell_type": "code",
   "execution_count": 48,
   "id": "d40e7d1e",
   "metadata": {},
   "outputs": [],
   "source": [
    "## Stategraph\n",
    "from langgraph.graph import StateGraph, START, END\n",
    "from langgraph.prebuilt import ToolNode\n",
    "from langgraph.prebuilt import tools_condition\n",
    "\n",
    "## Node definition\n",
    "def tool_calling_llm(state: State):\n",
    "    return {\"messages\": [llm_with_tools.invoke(state[\"messages\"])]}\n",
    "\n",
    "## Grpah\n",
    "builder = StateGraph(State)\n",
    "builder.add_node(\"tool_calling_llm\", tool_calling_llm)\n",
    "builder.add_node(\"tools\", ToolNode(tools))\n",
    "\n",
    "## Add Edges\n",
    "builder.add_edge(START, \"tool_calling_llm\")\n",
    "builder.add_conditional_edges(\n",
    "    \"tool_calling_llm\",\n",
    "    # If the latest message (result) from assistant is a tool call -> tools_condition routes to tools\n",
    "    # If the latest message (result) from assistant is a not a tool call -> tools_condition routes to END\n",
    "    tools_condition,\n",
    ")\n",
    "builder.add_edge(\"tools\", \"tool_calling_llm\")\n",
    "\n",
    "## compile the graph\n",
    "graph = builder.compile()"
   ]
  },
  {
   "cell_type": "code",
   "execution_count": 50,
   "id": "32628e7a",
   "metadata": {},
   "outputs": [
    {
     "name": "stdout",
     "output_type": "stream",
     "text": [
      "================================\u001b[1m Human Message \u001b[0m=================================\n",
      "\n",
      "Tell me 1000 * 3 and later add 5 with 10\n",
      "==================================\u001b[1m Ai Message \u001b[0m==================================\n",
      "Tool Calls:\n",
      "  multiply (26b13e20-96d4-4a7f-8817-09cff67204ac)\n",
      " Call ID: 26b13e20-96d4-4a7f-8817-09cff67204ac\n",
      "  Args:\n",
      "    a: 1000\n",
      "    b: 3\n",
      "  addition (623d2509-9d0f-425d-abc7-1e3b38d9d913)\n",
      " Call ID: 623d2509-9d0f-425d-abc7-1e3b38d9d913\n",
      "  Args:\n",
      "    a: 5\n",
      "    b: 10\n",
      "=================================\u001b[1m Tool Message \u001b[0m=================================\n",
      "Name: multiply\n",
      "\n",
      "3000\n",
      "=================================\u001b[1m Tool Message \u001b[0m=================================\n",
      "Name: addition\n",
      "\n",
      "15\n",
      "==================================\u001b[1m Ai Message \u001b[0m==================================\n",
      "\n",
      "The result of the multiplication is 3000.\n",
      "\n",
      "Adding 15 to 3000 results in: 3015.\n"
     ]
    }
   ],
   "source": [
    "response = graph.invoke(\n",
    "    {\"messages\": \"Tell me 1000 * 3 and later add 5 with 10\"}\n",
    ")\n",
    "for m in response[\"messages\"]:\n",
    "    m.pretty_print()\n"
   ]
  },
  {
   "cell_type": "code",
   "execution_count": 51,
   "id": "a509ae0c",
   "metadata": {},
   "outputs": [],
   "source": [
    "## Stategraph\n",
    "from langgraph.graph import StateGraph, START, END\n",
    "from langgraph.prebuilt import ToolNode\n",
    "from langgraph.prebuilt import tools_condition\n",
    "from langgraph.checkpoint.memory import MemorySaver\n",
    "\n",
    "memory = MemorySaver()\n",
    "\n",
    "\n",
    "## Node definition\n",
    "def tool_calling_llm(state: State):\n",
    "    return {\"messages\": [llm_with_tools.invoke(state[\"messages\"])]}\n",
    "\n",
    "\n",
    "## Grpah\n",
    "builder = StateGraph(State)\n",
    "builder.add_node(\"tool_calling_llm\", tool_calling_llm)\n",
    "builder.add_node(\"tools\", ToolNode(tools))\n",
    "\n",
    "## Add Edges\n",
    "builder.add_edge(START, \"tool_calling_llm\")\n",
    "builder.add_conditional_edges(\n",
    "    \"tool_calling_llm\",\n",
    "    # If the latest message (result) from assistant is a tool call -> tools_condition routes to tools\n",
    "    # If the latest message (result) from assistant is a not a tool call -> tools_condition routes to END\n",
    "    tools_condition,\n",
    ")\n",
    "builder.add_edge(\"tools\", \"tool_calling_llm\")\n",
    "\n",
    "## compile the graph\n",
    "graph = builder.compile(checkpointer=memory)\n"
   ]
  },
  {
   "cell_type": "code",
   "execution_count": 53,
   "id": "0a3e74eb",
   "metadata": {},
   "outputs": [
    {
     "name": "stdout",
     "output_type": "stream",
     "text": [
      "================================\u001b[1m Human Message \u001b[0m=================================\n",
      "\n",
      "Hi my name is Disen Chitilapilly Devassy\n",
      "==================================\u001b[1m Ai Message \u001b[0m==================================\n",
      "Tool Calls:\n",
      "  addition (ea3acb21-8426-4f4a-80f3-d4c8a83f1bbd)\n",
      " Call ID: ea3acb21-8426-4f4a-80f3-d4c8a83f1bbd\n",
      "  Args:\n",
      "    a: 0\n",
      "    b: 13\n",
      "=================================\u001b[1m Tool Message \u001b[0m=================================\n",
      "Name: addition\n",
      "\n",
      "13\n",
      "==================================\u001b[1m Ai Message \u001b[0m==================================\n",
      "\n",
      "Hello Disen! The answer to the addition question you submitted is 13. Is there anything else I can help you with?\n",
      "================================\u001b[1m Human Message \u001b[0m=================================\n",
      "\n",
      "Hi my name is Disen Chitilapilly Devassy\n",
      "==================================\u001b[1m Ai Message \u001b[0m==================================\n",
      "Tool Calls:\n",
      "  addition (3394e4f3-9b42-4029-ac8b-0f9d40b8ef1d)\n",
      " Call ID: 3394e4f3-9b42-4029-ac8b-0f9d40b8ef1d\n",
      "  Args:\n",
      "    a: 0\n",
      "    b: 13\n",
      "=================================\u001b[1m Tool Message \u001b[0m=================================\n",
      "Name: addition\n",
      "\n",
      "13\n",
      "==================================\u001b[1m Ai Message \u001b[0m==================================\n",
      "\n",
      "Hello again Disen! I seem to have repeated the same response. The answer remains 13. If you'd like to ask a new question or try a different math problem, feel free to do so!\n"
     ]
    }
   ],
   "source": [
    "config = {\"configurable\": {\"thread_id\": \"1\"}}\n",
    "\n",
    "response = graph.invoke({\"messages\": \"Hi my name is Disen Chitilapilly Devassy\"}, config=config)\n",
    "for m in response[\"messages\"]:\n",
    "    m.pretty_print()\n"
   ]
  },
  {
   "cell_type": "code",
   "execution_count": 54,
   "id": "ea7bae14",
   "metadata": {},
   "outputs": [
    {
     "name": "stdout",
     "output_type": "stream",
     "text": [
      "================================\u001b[1m Human Message \u001b[0m=================================\n",
      "\n",
      "Hi my name is Disen Chitilapilly Devassy\n",
      "==================================\u001b[1m Ai Message \u001b[0m==================================\n",
      "Tool Calls:\n",
      "  addition (ea3acb21-8426-4f4a-80f3-d4c8a83f1bbd)\n",
      " Call ID: ea3acb21-8426-4f4a-80f3-d4c8a83f1bbd\n",
      "  Args:\n",
      "    a: 0\n",
      "    b: 13\n",
      "=================================\u001b[1m Tool Message \u001b[0m=================================\n",
      "Name: addition\n",
      "\n",
      "13\n",
      "==================================\u001b[1m Ai Message \u001b[0m==================================\n",
      "\n",
      "Hello Disen! The answer to the addition question you submitted is 13. Is there anything else I can help you with?\n",
      "================================\u001b[1m Human Message \u001b[0m=================================\n",
      "\n",
      "Hi my name is Disen Chitilapilly Devassy\n",
      "==================================\u001b[1m Ai Message \u001b[0m==================================\n",
      "Tool Calls:\n",
      "  addition (3394e4f3-9b42-4029-ac8b-0f9d40b8ef1d)\n",
      " Call ID: 3394e4f3-9b42-4029-ac8b-0f9d40b8ef1d\n",
      "  Args:\n",
      "    a: 0\n",
      "    b: 13\n",
      "=================================\u001b[1m Tool Message \u001b[0m=================================\n",
      "Name: addition\n",
      "\n",
      "13\n",
      "==================================\u001b[1m Ai Message \u001b[0m==================================\n",
      "\n",
      "Hello again Disen! I seem to have repeated the same response. The answer remains 13. If you'd like to ask a new question or try a different math problem, feel free to do so!\n",
      "================================\u001b[1m Human Message \u001b[0m=================================\n",
      "\n",
      "Hey what is my name\n",
      "==================================\u001b[1m Ai Message \u001b[0m==================================\n",
      "Tool Calls:\n",
      "  addition (02a2cc7d-c8bb-4688-9618-7cf054dbc6e6)\n",
      " Call ID: 02a2cc7d-c8bb-4688-9618-7cf054dbc6e6\n",
      "  Args:\n",
      "    a: Disen Chitilapilly Devassy\n",
      "    b:\n",
      "=================================\u001b[1m Tool Message \u001b[0m=================================\n",
      "Name: addition\n",
      "\n",
      "Error: 2 validation errors for addition\n",
      "a\n",
      "  Input should be a valid integer, unable to parse string as an integer [type=int_parsing, input_value='Disen Chitilapilly Devassy', input_type=str]\n",
      "    For further information visit https://errors.pydantic.dev/2.11/v/int_parsing\n",
      "b\n",
      "  Input should be a valid integer, unable to parse string as an integer [type=int_parsing, input_value='', input_type=str]\n",
      "    For further information visit https://errors.pydantic.dev/2.11/v/int_parsing\n",
      " Please fix your mistakes.\n",
      "==================================\u001b[1m Ai Message \u001b[0m==================================\n",
      "\n",
      "I think I understand what's going on! It seems that the tool calling feature isn't working as expected with your name.\n",
      "\n",
      "Your name, \"Disen Chitilapilly Devassy\", is a string of text and can't be used directly in an addition problem. I should have responded with something like \"Sorry Disen, I'm not sure what you'd like to add together\" instead of trying to run a math operation on your name.\n",
      "\n",
      "Let me try again! How can I assist you today?\n"
     ]
    }
   ],
   "source": [
    "response = graph.invoke({\"messages\": \"Hey what is my name\"}, config=config)\n",
    "for m in response[\"messages\"]:\n",
    "    m.pretty_print()"
   ]
  },
  {
   "cell_type": "code",
   "execution_count": 56,
   "id": "856681a1",
   "metadata": {},
   "outputs": [],
   "source": [
    "from langgraph.checkpoint.memory import MemorySaver\n",
    "\n",
    "memory = MemorySaver()\n"
   ]
  },
  {
   "cell_type": "code",
   "execution_count": 57,
   "id": "0251fe7e",
   "metadata": {},
   "outputs": [],
   "source": [
    "def superbot(state: State):\n",
    "    return {\"messages\": [llm.invoke(state[\"messages\"])]}\n"
   ]
  },
  {
   "cell_type": "code",
   "execution_count": 58,
   "id": "ccaf8590",
   "metadata": {},
   "outputs": [],
   "source": [
    "graph = StateGraph(State)\n",
    "\n",
    "## node\n",
    "graph.add_node(\"SuperBot\", superbot)\n",
    "## Edges\n",
    "\n",
    "graph.add_edge(START, \"SuperBot\")\n",
    "graph.add_edge(\"SuperBot\", END)\n",
    "\n",
    "\n",
    "graph_builder = graph.compile(checkpointer=memory)\n"
   ]
  },
  {
   "cell_type": "code",
   "execution_count": 62,
   "id": "1b800218",
   "metadata": {},
   "outputs": [
    {
     "name": "stdout",
     "output_type": "stream",
     "text": [
      "{'SuperBot': {'messages': [AIMessage(content=\"I think we've had this conversation before, Krish! You're telling me again that you like cricket. That's okay, I'm happy to chat with you about it!\\n\\nIf you don't mind me asking, what do you like most about the game of cricket? Is it the skill and strategy involved in playing it, or maybe the excitement of watching a match?\\n\\n(By the way, I think we might need to mix up the conversation a bit. Do you want to talk about something new, or keep chatting about cricket?)\", additional_kwargs={}, response_metadata={'model': 'llama3.2', 'created_at': '2025-08-24T12:30:07.811212Z', 'done': True, 'done_reason': 'stop', 'total_duration': 3872069291, 'load_duration': 122017291, 'prompt_eval_count': 293, 'prompt_eval_duration': 830805000, 'eval_count': 107, 'eval_duration': 2915903750, 'model_name': 'llama3.2'}, id='run--fe86544e-b462-4912-bae7-03ced14cc1cf-0', usage_metadata={'input_tokens': 293, 'output_tokens': 107, 'total_tokens': 400})]}}\n"
     ]
    }
   ],
   "source": [
    "# Create a thread\n",
    "config = {\"configurable\": {\"thread_id\": \"3\"}}\n",
    "\n",
    "for chunk in graph_builder.stream(\n",
    "    {\"messages\": \"Hi,My name is Krish And I like cricket\"},\n",
    "    config,\n",
    "    stream_mode=\"updates\",\n",
    "):\n",
    "    print(chunk)\n"
   ]
  },
  {
   "cell_type": "code",
   "execution_count": 63,
   "id": "e187dbc0",
   "metadata": {},
   "outputs": [
    {
     "name": "stdout",
     "output_type": "stream",
     "text": [
      "{'SuperBot': {'messages': [AIMessage(content=\"Namaste Krish! Nice to meet you! Cricket is a great sport, isn't it? Which team do you support, and who's your favorite player?\", additional_kwargs={}, response_metadata={'model': 'llama3.2', 'created_at': '2025-08-24T12:31:06.77999Z', 'done': True, 'done_reason': 'stop', 'total_duration': 1719362708, 'load_duration': 95588917, 'prompt_eval_count': 35, 'prompt_eval_duration': 747135000, 'eval_count': 33, 'eval_duration': 876002375, 'model_name': 'llama3.2'}, id='run--fec5ba6a-f75e-403d-99e7-701c9d67ea50-0', usage_metadata={'input_tokens': 35, 'output_tokens': 33, 'total_tokens': 68})]}}\n"
     ]
    }
   ],
   "source": [
    "# Create a thread\n",
    "config = {\"configurable\": {\"thread_id\": \"4\"}}\n",
    "\n",
    "for chunk in graph_builder.stream(\n",
    "    {\"messages\": \"Hi,My name is Krish And I like cricket\"},\n",
    "    config,\n",
    "    stream_mode=\"updates\",\n",
    "):\n",
    "    print(chunk)\n"
   ]
  },
  {
   "cell_type": "code",
   "execution_count": 64,
   "id": "c574997d",
   "metadata": {},
   "outputs": [
    {
     "name": "stdout",
     "output_type": "stream",
     "text": [
      "{'messages': [HumanMessage(content='Hi,My name is Krish And I like cricket', additional_kwargs={}, response_metadata={}, id='6f14fcc0-3bd7-4d5f-87ab-34234f69fafb'), AIMessage(content=\"Namaste Krish! Nice to meet you! Cricket is a great sport, isn't it? Which team do you support, and who's your favorite player?\", additional_kwargs={}, response_metadata={'model': 'llama3.2', 'created_at': '2025-08-24T12:31:06.77999Z', 'done': True, 'done_reason': 'stop', 'total_duration': 1719362708, 'load_duration': 95588917, 'prompt_eval_count': 35, 'prompt_eval_duration': 747135000, 'eval_count': 33, 'eval_duration': 876002375, 'model_name': 'llama3.2'}, id='run--fec5ba6a-f75e-403d-99e7-701c9d67ea50-0', usage_metadata={'input_tokens': 35, 'output_tokens': 33, 'total_tokens': 68}), HumanMessage(content='I also like football', additional_kwargs={}, response_metadata={}, id='8c55738b-95ca-45be-93a7-2c12763fd6f6')]}\n",
      "{'messages': [HumanMessage(content='Hi,My name is Krish And I like cricket', additional_kwargs={}, response_metadata={}, id='6f14fcc0-3bd7-4d5f-87ab-34234f69fafb'), AIMessage(content=\"Namaste Krish! Nice to meet you! Cricket is a great sport, isn't it? Which team do you support, and who's your favorite player?\", additional_kwargs={}, response_metadata={'model': 'llama3.2', 'created_at': '2025-08-24T12:31:06.77999Z', 'done': True, 'done_reason': 'stop', 'total_duration': 1719362708, 'load_duration': 95588917, 'prompt_eval_count': 35, 'prompt_eval_duration': 747135000, 'eval_count': 33, 'eval_duration': 876002375, 'model_name': 'llama3.2'}, id='run--fec5ba6a-f75e-403d-99e7-701c9d67ea50-0', usage_metadata={'input_tokens': 35, 'output_tokens': 33, 'total_tokens': 68}), HumanMessage(content='I also like football', additional_kwargs={}, response_metadata={}, id='8c55738b-95ca-45be-93a7-2c12763fd6f6'), AIMessage(content='Football is another exciting sport. Which aspect of football are you interested in the most - playing, watching, or something else?\\n\\nBy the way, do you have a favorite football team, Krish? Are you more into Indian football or global football leagues like the Premier League or La Liga?', additional_kwargs={}, response_metadata={'model': 'llama3.2', 'created_at': '2025-08-24T12:31:29.721498Z', 'done': True, 'done_reason': 'stop', 'total_duration': 1948813083, 'load_duration': 60678000, 'prompt_eval_count': 81, 'prompt_eval_duration': 345315125, 'eval_count': 58, 'eval_duration': 1540461167, 'model_name': 'llama3.2'}, id='run--553b2b80-42ca-4d33-9e6b-ea70959c6d88-0', usage_metadata={'input_tokens': 81, 'output_tokens': 58, 'total_tokens': 139})]}\n"
     ]
    }
   ],
   "source": [
    "for chunk in graph_builder.stream(\n",
    "    {\"messages\": \"I also like football\"}, config, stream_mode=\"values\"\n",
    "):\n",
    "    print(chunk)\n"
   ]
  },
  {
   "cell_type": "code",
   "execution_count": 65,
   "id": "58267454",
   "metadata": {},
   "outputs": [
    {
     "name": "stdout",
     "output_type": "stream",
     "text": [
      "{'event': 'on_chain_start', 'data': {'input': {'messages': ['Hi My name is Krish and I like to play cricket']}}, 'name': 'LangGraph', 'tags': [], 'run_id': 'd937d269-53c1-4b72-8e8a-d62ea827782a', 'metadata': {'thread_id': '5'}, 'parent_ids': []}\n",
      "{'event': 'on_chain_start', 'data': {'input': {'messages': [HumanMessage(content='Hi My name is Krish and I like to play cricket', additional_kwargs={}, response_metadata={}, id='44fe9f9b-03ed-48af-8288-eaa7edb83daa')]}}, 'name': 'SuperBot', 'tags': ['graph:step:1'], 'run_id': '76dc6793-15ce-4d49-842c-c4124238997b', 'metadata': {'thread_id': '5', 'langgraph_step': 1, 'langgraph_node': 'SuperBot', 'langgraph_triggers': ('branch:to:SuperBot',), 'langgraph_path': ('__pregel_pull', 'SuperBot'), 'langgraph_checkpoint_ns': 'SuperBot:568dc40d-4eda-2dff-82fb-705c6562ab3b'}, 'parent_ids': ['d937d269-53c1-4b72-8e8a-d62ea827782a']}\n",
      "{'event': 'on_chat_model_start', 'data': {'input': {'messages': [[HumanMessage(content='Hi My name is Krish and I like to play cricket', additional_kwargs={}, response_metadata={}, id='44fe9f9b-03ed-48af-8288-eaa7edb83daa')]]}}, 'name': 'ChatOllama', 'tags': ['seq:step:1'], 'run_id': '7980dfa0-eddb-4c2e-bc82-10a16018ed3a', 'metadata': {'thread_id': '5', 'langgraph_step': 1, 'langgraph_node': 'SuperBot', 'langgraph_triggers': ('branch:to:SuperBot',), 'langgraph_path': ('__pregel_pull', 'SuperBot'), 'langgraph_checkpoint_ns': 'SuperBot:568dc40d-4eda-2dff-82fb-705c6562ab3b', 'checkpoint_ns': 'SuperBot:568dc40d-4eda-2dff-82fb-705c6562ab3b', 'ls_provider': 'ollama', 'ls_model_name': 'llama3.2', 'ls_model_type': 'chat', 'ls_temperature': None}, 'parent_ids': ['d937d269-53c1-4b72-8e8a-d62ea827782a', '76dc6793-15ce-4d49-842c-c4124238997b']}\n",
      "{'event': 'on_chat_model_stream', 'data': {'chunk': AIMessageChunk(content='Nice', additional_kwargs={}, response_metadata={}, id='run--7980dfa0-eddb-4c2e-bc82-10a16018ed3a')}, 'run_id': '7980dfa0-eddb-4c2e-bc82-10a16018ed3a', 'name': 'ChatOllama', 'tags': ['seq:step:1'], 'metadata': {'thread_id': '5', 'langgraph_step': 1, 'langgraph_node': 'SuperBot', 'langgraph_triggers': ('branch:to:SuperBot',), 'langgraph_path': ('__pregel_pull', 'SuperBot'), 'langgraph_checkpoint_ns': 'SuperBot:568dc40d-4eda-2dff-82fb-705c6562ab3b', 'checkpoint_ns': 'SuperBot:568dc40d-4eda-2dff-82fb-705c6562ab3b', 'ls_provider': 'ollama', 'ls_model_name': 'llama3.2', 'ls_model_type': 'chat', 'ls_temperature': None}, 'parent_ids': ['d937d269-53c1-4b72-8e8a-d62ea827782a', '76dc6793-15ce-4d49-842c-c4124238997b']}\n",
      "{'event': 'on_chat_model_stream', 'data': {'chunk': AIMessageChunk(content=' to', additional_kwargs={}, response_metadata={}, id='run--7980dfa0-eddb-4c2e-bc82-10a16018ed3a')}, 'run_id': '7980dfa0-eddb-4c2e-bc82-10a16018ed3a', 'name': 'ChatOllama', 'tags': ['seq:step:1'], 'metadata': {'thread_id': '5', 'langgraph_step': 1, 'langgraph_node': 'SuperBot', 'langgraph_triggers': ('branch:to:SuperBot',), 'langgraph_path': ('__pregel_pull', 'SuperBot'), 'langgraph_checkpoint_ns': 'SuperBot:568dc40d-4eda-2dff-82fb-705c6562ab3b', 'checkpoint_ns': 'SuperBot:568dc40d-4eda-2dff-82fb-705c6562ab3b', 'ls_provider': 'ollama', 'ls_model_name': 'llama3.2', 'ls_model_type': 'chat', 'ls_temperature': None}, 'parent_ids': ['d937d269-53c1-4b72-8e8a-d62ea827782a', '76dc6793-15ce-4d49-842c-c4124238997b']}\n",
      "{'event': 'on_chat_model_stream', 'data': {'chunk': AIMessageChunk(content=' meet', additional_kwargs={}, response_metadata={}, id='run--7980dfa0-eddb-4c2e-bc82-10a16018ed3a')}, 'run_id': '7980dfa0-eddb-4c2e-bc82-10a16018ed3a', 'name': 'ChatOllama', 'tags': ['seq:step:1'], 'metadata': {'thread_id': '5', 'langgraph_step': 1, 'langgraph_node': 'SuperBot', 'langgraph_triggers': ('branch:to:SuperBot',), 'langgraph_path': ('__pregel_pull', 'SuperBot'), 'langgraph_checkpoint_ns': 'SuperBot:568dc40d-4eda-2dff-82fb-705c6562ab3b', 'checkpoint_ns': 'SuperBot:568dc40d-4eda-2dff-82fb-705c6562ab3b', 'ls_provider': 'ollama', 'ls_model_name': 'llama3.2', 'ls_model_type': 'chat', 'ls_temperature': None}, 'parent_ids': ['d937d269-53c1-4b72-8e8a-d62ea827782a', '76dc6793-15ce-4d49-842c-c4124238997b']}\n",
      "{'event': 'on_chat_model_stream', 'data': {'chunk': AIMessageChunk(content=' you', additional_kwargs={}, response_metadata={}, id='run--7980dfa0-eddb-4c2e-bc82-10a16018ed3a')}, 'run_id': '7980dfa0-eddb-4c2e-bc82-10a16018ed3a', 'name': 'ChatOllama', 'tags': ['seq:step:1'], 'metadata': {'thread_id': '5', 'langgraph_step': 1, 'langgraph_node': 'SuperBot', 'langgraph_triggers': ('branch:to:SuperBot',), 'langgraph_path': ('__pregel_pull', 'SuperBot'), 'langgraph_checkpoint_ns': 'SuperBot:568dc40d-4eda-2dff-82fb-705c6562ab3b', 'checkpoint_ns': 'SuperBot:568dc40d-4eda-2dff-82fb-705c6562ab3b', 'ls_provider': 'ollama', 'ls_model_name': 'llama3.2', 'ls_model_type': 'chat', 'ls_temperature': None}, 'parent_ids': ['d937d269-53c1-4b72-8e8a-d62ea827782a', '76dc6793-15ce-4d49-842c-c4124238997b']}\n",
      "{'event': 'on_chat_model_stream', 'data': {'chunk': AIMessageChunk(content=',', additional_kwargs={}, response_metadata={}, id='run--7980dfa0-eddb-4c2e-bc82-10a16018ed3a')}, 'run_id': '7980dfa0-eddb-4c2e-bc82-10a16018ed3a', 'name': 'ChatOllama', 'tags': ['seq:step:1'], 'metadata': {'thread_id': '5', 'langgraph_step': 1, 'langgraph_node': 'SuperBot', 'langgraph_triggers': ('branch:to:SuperBot',), 'langgraph_path': ('__pregel_pull', 'SuperBot'), 'langgraph_checkpoint_ns': 'SuperBot:568dc40d-4eda-2dff-82fb-705c6562ab3b', 'checkpoint_ns': 'SuperBot:568dc40d-4eda-2dff-82fb-705c6562ab3b', 'ls_provider': 'ollama', 'ls_model_name': 'llama3.2', 'ls_model_type': 'chat', 'ls_temperature': None}, 'parent_ids': ['d937d269-53c1-4b72-8e8a-d62ea827782a', '76dc6793-15ce-4d49-842c-c4124238997b']}\n",
      "{'event': 'on_chat_model_stream', 'data': {'chunk': AIMessageChunk(content=' Krish', additional_kwargs={}, response_metadata={}, id='run--7980dfa0-eddb-4c2e-bc82-10a16018ed3a')}, 'run_id': '7980dfa0-eddb-4c2e-bc82-10a16018ed3a', 'name': 'ChatOllama', 'tags': ['seq:step:1'], 'metadata': {'thread_id': '5', 'langgraph_step': 1, 'langgraph_node': 'SuperBot', 'langgraph_triggers': ('branch:to:SuperBot',), 'langgraph_path': ('__pregel_pull', 'SuperBot'), 'langgraph_checkpoint_ns': 'SuperBot:568dc40d-4eda-2dff-82fb-705c6562ab3b', 'checkpoint_ns': 'SuperBot:568dc40d-4eda-2dff-82fb-705c6562ab3b', 'ls_provider': 'ollama', 'ls_model_name': 'llama3.2', 'ls_model_type': 'chat', 'ls_temperature': None}, 'parent_ids': ['d937d269-53c1-4b72-8e8a-d62ea827782a', '76dc6793-15ce-4d49-842c-c4124238997b']}\n",
      "{'event': 'on_chat_model_stream', 'data': {'chunk': AIMessageChunk(content='!', additional_kwargs={}, response_metadata={}, id='run--7980dfa0-eddb-4c2e-bc82-10a16018ed3a')}, 'run_id': '7980dfa0-eddb-4c2e-bc82-10a16018ed3a', 'name': 'ChatOllama', 'tags': ['seq:step:1'], 'metadata': {'thread_id': '5', 'langgraph_step': 1, 'langgraph_node': 'SuperBot', 'langgraph_triggers': ('branch:to:SuperBot',), 'langgraph_path': ('__pregel_pull', 'SuperBot'), 'langgraph_checkpoint_ns': 'SuperBot:568dc40d-4eda-2dff-82fb-705c6562ab3b', 'checkpoint_ns': 'SuperBot:568dc40d-4eda-2dff-82fb-705c6562ab3b', 'ls_provider': 'ollama', 'ls_model_name': 'llama3.2', 'ls_model_type': 'chat', 'ls_temperature': None}, 'parent_ids': ['d937d269-53c1-4b72-8e8a-d62ea827782a', '76dc6793-15ce-4d49-842c-c4124238997b']}\n",
      "{'event': 'on_chat_model_stream', 'data': {'chunk': AIMessageChunk(content=' Cricket', additional_kwargs={}, response_metadata={}, id='run--7980dfa0-eddb-4c2e-bc82-10a16018ed3a')}, 'run_id': '7980dfa0-eddb-4c2e-bc82-10a16018ed3a', 'name': 'ChatOllama', 'tags': ['seq:step:1'], 'metadata': {'thread_id': '5', 'langgraph_step': 1, 'langgraph_node': 'SuperBot', 'langgraph_triggers': ('branch:to:SuperBot',), 'langgraph_path': ('__pregel_pull', 'SuperBot'), 'langgraph_checkpoint_ns': 'SuperBot:568dc40d-4eda-2dff-82fb-705c6562ab3b', 'checkpoint_ns': 'SuperBot:568dc40d-4eda-2dff-82fb-705c6562ab3b', 'ls_provider': 'ollama', 'ls_model_name': 'llama3.2', 'ls_model_type': 'chat', 'ls_temperature': None}, 'parent_ids': ['d937d269-53c1-4b72-8e8a-d62ea827782a', '76dc6793-15ce-4d49-842c-c4124238997b']}\n",
      "{'event': 'on_chat_model_stream', 'data': {'chunk': AIMessageChunk(content=' is', additional_kwargs={}, response_metadata={}, id='run--7980dfa0-eddb-4c2e-bc82-10a16018ed3a')}, 'run_id': '7980dfa0-eddb-4c2e-bc82-10a16018ed3a', 'name': 'ChatOllama', 'tags': ['seq:step:1'], 'metadata': {'thread_id': '5', 'langgraph_step': 1, 'langgraph_node': 'SuperBot', 'langgraph_triggers': ('branch:to:SuperBot',), 'langgraph_path': ('__pregel_pull', 'SuperBot'), 'langgraph_checkpoint_ns': 'SuperBot:568dc40d-4eda-2dff-82fb-705c6562ab3b', 'checkpoint_ns': 'SuperBot:568dc40d-4eda-2dff-82fb-705c6562ab3b', 'ls_provider': 'ollama', 'ls_model_name': 'llama3.2', 'ls_model_type': 'chat', 'ls_temperature': None}, 'parent_ids': ['d937d269-53c1-4b72-8e8a-d62ea827782a', '76dc6793-15ce-4d49-842c-c4124238997b']}\n",
      "{'event': 'on_chat_model_stream', 'data': {'chunk': AIMessageChunk(content=' an', additional_kwargs={}, response_metadata={}, id='run--7980dfa0-eddb-4c2e-bc82-10a16018ed3a')}, 'run_id': '7980dfa0-eddb-4c2e-bc82-10a16018ed3a', 'name': 'ChatOllama', 'tags': ['seq:step:1'], 'metadata': {'thread_id': '5', 'langgraph_step': 1, 'langgraph_node': 'SuperBot', 'langgraph_triggers': ('branch:to:SuperBot',), 'langgraph_path': ('__pregel_pull', 'SuperBot'), 'langgraph_checkpoint_ns': 'SuperBot:568dc40d-4eda-2dff-82fb-705c6562ab3b', 'checkpoint_ns': 'SuperBot:568dc40d-4eda-2dff-82fb-705c6562ab3b', 'ls_provider': 'ollama', 'ls_model_name': 'llama3.2', 'ls_model_type': 'chat', 'ls_temperature': None}, 'parent_ids': ['d937d269-53c1-4b72-8e8a-d62ea827782a', '76dc6793-15ce-4d49-842c-c4124238997b']}\n",
      "{'event': 'on_chat_model_stream', 'data': {'chunk': AIMessageChunk(content=' amazing', additional_kwargs={}, response_metadata={}, id='run--7980dfa0-eddb-4c2e-bc82-10a16018ed3a')}, 'run_id': '7980dfa0-eddb-4c2e-bc82-10a16018ed3a', 'name': 'ChatOllama', 'tags': ['seq:step:1'], 'metadata': {'thread_id': '5', 'langgraph_step': 1, 'langgraph_node': 'SuperBot', 'langgraph_triggers': ('branch:to:SuperBot',), 'langgraph_path': ('__pregel_pull', 'SuperBot'), 'langgraph_checkpoint_ns': 'SuperBot:568dc40d-4eda-2dff-82fb-705c6562ab3b', 'checkpoint_ns': 'SuperBot:568dc40d-4eda-2dff-82fb-705c6562ab3b', 'ls_provider': 'ollama', 'ls_model_name': 'llama3.2', 'ls_model_type': 'chat', 'ls_temperature': None}, 'parent_ids': ['d937d269-53c1-4b72-8e8a-d62ea827782a', '76dc6793-15ce-4d49-842c-c4124238997b']}\n",
      "{'event': 'on_chat_model_stream', 'data': {'chunk': AIMessageChunk(content=' sport', additional_kwargs={}, response_metadata={}, id='run--7980dfa0-eddb-4c2e-bc82-10a16018ed3a')}, 'run_id': '7980dfa0-eddb-4c2e-bc82-10a16018ed3a', 'name': 'ChatOllama', 'tags': ['seq:step:1'], 'metadata': {'thread_id': '5', 'langgraph_step': 1, 'langgraph_node': 'SuperBot', 'langgraph_triggers': ('branch:to:SuperBot',), 'langgraph_path': ('__pregel_pull', 'SuperBot'), 'langgraph_checkpoint_ns': 'SuperBot:568dc40d-4eda-2dff-82fb-705c6562ab3b', 'checkpoint_ns': 'SuperBot:568dc40d-4eda-2dff-82fb-705c6562ab3b', 'ls_provider': 'ollama', 'ls_model_name': 'llama3.2', 'ls_model_type': 'chat', 'ls_temperature': None}, 'parent_ids': ['d937d269-53c1-4b72-8e8a-d62ea827782a', '76dc6793-15ce-4d49-842c-c4124238997b']}\n",
      "{'event': 'on_chat_model_stream', 'data': {'chunk': AIMessageChunk(content=',', additional_kwargs={}, response_metadata={}, id='run--7980dfa0-eddb-4c2e-bc82-10a16018ed3a')}, 'run_id': '7980dfa0-eddb-4c2e-bc82-10a16018ed3a', 'name': 'ChatOllama', 'tags': ['seq:step:1'], 'metadata': {'thread_id': '5', 'langgraph_step': 1, 'langgraph_node': 'SuperBot', 'langgraph_triggers': ('branch:to:SuperBot',), 'langgraph_path': ('__pregel_pull', 'SuperBot'), 'langgraph_checkpoint_ns': 'SuperBot:568dc40d-4eda-2dff-82fb-705c6562ab3b', 'checkpoint_ns': 'SuperBot:568dc40d-4eda-2dff-82fb-705c6562ab3b', 'ls_provider': 'ollama', 'ls_model_name': 'llama3.2', 'ls_model_type': 'chat', 'ls_temperature': None}, 'parent_ids': ['d937d269-53c1-4b72-8e8a-d62ea827782a', '76dc6793-15ce-4d49-842c-c4124238997b']}\n",
      "{'event': 'on_chat_model_stream', 'data': {'chunk': AIMessageChunk(content=' isn', additional_kwargs={}, response_metadata={}, id='run--7980dfa0-eddb-4c2e-bc82-10a16018ed3a')}, 'run_id': '7980dfa0-eddb-4c2e-bc82-10a16018ed3a', 'name': 'ChatOllama', 'tags': ['seq:step:1'], 'metadata': {'thread_id': '5', 'langgraph_step': 1, 'langgraph_node': 'SuperBot', 'langgraph_triggers': ('branch:to:SuperBot',), 'langgraph_path': ('__pregel_pull', 'SuperBot'), 'langgraph_checkpoint_ns': 'SuperBot:568dc40d-4eda-2dff-82fb-705c6562ab3b', 'checkpoint_ns': 'SuperBot:568dc40d-4eda-2dff-82fb-705c6562ab3b', 'ls_provider': 'ollama', 'ls_model_name': 'llama3.2', 'ls_model_type': 'chat', 'ls_temperature': None}, 'parent_ids': ['d937d269-53c1-4b72-8e8a-d62ea827782a', '76dc6793-15ce-4d49-842c-c4124238997b']}\n",
      "{'event': 'on_chat_model_stream', 'data': {'chunk': AIMessageChunk(content=\"'t\", additional_kwargs={}, response_metadata={}, id='run--7980dfa0-eddb-4c2e-bc82-10a16018ed3a')}, 'run_id': '7980dfa0-eddb-4c2e-bc82-10a16018ed3a', 'name': 'ChatOllama', 'tags': ['seq:step:1'], 'metadata': {'thread_id': '5', 'langgraph_step': 1, 'langgraph_node': 'SuperBot', 'langgraph_triggers': ('branch:to:SuperBot',), 'langgraph_path': ('__pregel_pull', 'SuperBot'), 'langgraph_checkpoint_ns': 'SuperBot:568dc40d-4eda-2dff-82fb-705c6562ab3b', 'checkpoint_ns': 'SuperBot:568dc40d-4eda-2dff-82fb-705c6562ab3b', 'ls_provider': 'ollama', 'ls_model_name': 'llama3.2', 'ls_model_type': 'chat', 'ls_temperature': None}, 'parent_ids': ['d937d269-53c1-4b72-8e8a-d62ea827782a', '76dc6793-15ce-4d49-842c-c4124238997b']}\n",
      "{'event': 'on_chat_model_stream', 'data': {'chunk': AIMessageChunk(content=' it', additional_kwargs={}, response_metadata={}, id='run--7980dfa0-eddb-4c2e-bc82-10a16018ed3a')}, 'run_id': '7980dfa0-eddb-4c2e-bc82-10a16018ed3a', 'name': 'ChatOllama', 'tags': ['seq:step:1'], 'metadata': {'thread_id': '5', 'langgraph_step': 1, 'langgraph_node': 'SuperBot', 'langgraph_triggers': ('branch:to:SuperBot',), 'langgraph_path': ('__pregel_pull', 'SuperBot'), 'langgraph_checkpoint_ns': 'SuperBot:568dc40d-4eda-2dff-82fb-705c6562ab3b', 'checkpoint_ns': 'SuperBot:568dc40d-4eda-2dff-82fb-705c6562ab3b', 'ls_provider': 'ollama', 'ls_model_name': 'llama3.2', 'ls_model_type': 'chat', 'ls_temperature': None}, 'parent_ids': ['d937d269-53c1-4b72-8e8a-d62ea827782a', '76dc6793-15ce-4d49-842c-c4124238997b']}\n",
      "{'event': 'on_chat_model_stream', 'data': {'chunk': AIMessageChunk(content='?', additional_kwargs={}, response_metadata={}, id='run--7980dfa0-eddb-4c2e-bc82-10a16018ed3a')}, 'run_id': '7980dfa0-eddb-4c2e-bc82-10a16018ed3a', 'name': 'ChatOllama', 'tags': ['seq:step:1'], 'metadata': {'thread_id': '5', 'langgraph_step': 1, 'langgraph_node': 'SuperBot', 'langgraph_triggers': ('branch:to:SuperBot',), 'langgraph_path': ('__pregel_pull', 'SuperBot'), 'langgraph_checkpoint_ns': 'SuperBot:568dc40d-4eda-2dff-82fb-705c6562ab3b', 'checkpoint_ns': 'SuperBot:568dc40d-4eda-2dff-82fb-705c6562ab3b', 'ls_provider': 'ollama', 'ls_model_name': 'llama3.2', 'ls_model_type': 'chat', 'ls_temperature': None}, 'parent_ids': ['d937d269-53c1-4b72-8e8a-d62ea827782a', '76dc6793-15ce-4d49-842c-c4124238997b']}\n",
      "{'event': 'on_chat_model_stream', 'data': {'chunk': AIMessageChunk(content=' What', additional_kwargs={}, response_metadata={}, id='run--7980dfa0-eddb-4c2e-bc82-10a16018ed3a')}, 'run_id': '7980dfa0-eddb-4c2e-bc82-10a16018ed3a', 'name': 'ChatOllama', 'tags': ['seq:step:1'], 'metadata': {'thread_id': '5', 'langgraph_step': 1, 'langgraph_node': 'SuperBot', 'langgraph_triggers': ('branch:to:SuperBot',), 'langgraph_path': ('__pregel_pull', 'SuperBot'), 'langgraph_checkpoint_ns': 'SuperBot:568dc40d-4eda-2dff-82fb-705c6562ab3b', 'checkpoint_ns': 'SuperBot:568dc40d-4eda-2dff-82fb-705c6562ab3b', 'ls_provider': 'ollama', 'ls_model_name': 'llama3.2', 'ls_model_type': 'chat', 'ls_temperature': None}, 'parent_ids': ['d937d269-53c1-4b72-8e8a-d62ea827782a', '76dc6793-15ce-4d49-842c-c4124238997b']}\n",
      "{'event': 'on_chat_model_stream', 'data': {'chunk': AIMessageChunk(content=\"'s\", additional_kwargs={}, response_metadata={}, id='run--7980dfa0-eddb-4c2e-bc82-10a16018ed3a')}, 'run_id': '7980dfa0-eddb-4c2e-bc82-10a16018ed3a', 'name': 'ChatOllama', 'tags': ['seq:step:1'], 'metadata': {'thread_id': '5', 'langgraph_step': 1, 'langgraph_node': 'SuperBot', 'langgraph_triggers': ('branch:to:SuperBot',), 'langgraph_path': ('__pregel_pull', 'SuperBot'), 'langgraph_checkpoint_ns': 'SuperBot:568dc40d-4eda-2dff-82fb-705c6562ab3b', 'checkpoint_ns': 'SuperBot:568dc40d-4eda-2dff-82fb-705c6562ab3b', 'ls_provider': 'ollama', 'ls_model_name': 'llama3.2', 'ls_model_type': 'chat', 'ls_temperature': None}, 'parent_ids': ['d937d269-53c1-4b72-8e8a-d62ea827782a', '76dc6793-15ce-4d49-842c-c4124238997b']}\n",
      "{'event': 'on_chat_model_stream', 'data': {'chunk': AIMessageChunk(content=' your', additional_kwargs={}, response_metadata={}, id='run--7980dfa0-eddb-4c2e-bc82-10a16018ed3a')}, 'run_id': '7980dfa0-eddb-4c2e-bc82-10a16018ed3a', 'name': 'ChatOllama', 'tags': ['seq:step:1'], 'metadata': {'thread_id': '5', 'langgraph_step': 1, 'langgraph_node': 'SuperBot', 'langgraph_triggers': ('branch:to:SuperBot',), 'langgraph_path': ('__pregel_pull', 'SuperBot'), 'langgraph_checkpoint_ns': 'SuperBot:568dc40d-4eda-2dff-82fb-705c6562ab3b', 'checkpoint_ns': 'SuperBot:568dc40d-4eda-2dff-82fb-705c6562ab3b', 'ls_provider': 'ollama', 'ls_model_name': 'llama3.2', 'ls_model_type': 'chat', 'ls_temperature': None}, 'parent_ids': ['d937d269-53c1-4b72-8e8a-d62ea827782a', '76dc6793-15ce-4d49-842c-c4124238997b']}\n",
      "{'event': 'on_chat_model_stream', 'data': {'chunk': AIMessageChunk(content=' favorite', additional_kwargs={}, response_metadata={}, id='run--7980dfa0-eddb-4c2e-bc82-10a16018ed3a')}, 'run_id': '7980dfa0-eddb-4c2e-bc82-10a16018ed3a', 'name': 'ChatOllama', 'tags': ['seq:step:1'], 'metadata': {'thread_id': '5', 'langgraph_step': 1, 'langgraph_node': 'SuperBot', 'langgraph_triggers': ('branch:to:SuperBot',), 'langgraph_path': ('__pregel_pull', 'SuperBot'), 'langgraph_checkpoint_ns': 'SuperBot:568dc40d-4eda-2dff-82fb-705c6562ab3b', 'checkpoint_ns': 'SuperBot:568dc40d-4eda-2dff-82fb-705c6562ab3b', 'ls_provider': 'ollama', 'ls_model_name': 'llama3.2', 'ls_model_type': 'chat', 'ls_temperature': None}, 'parent_ids': ['d937d269-53c1-4b72-8e8a-d62ea827782a', '76dc6793-15ce-4d49-842c-c4124238997b']}\n",
      "{'event': 'on_chat_model_stream', 'data': {'chunk': AIMessageChunk(content=' aspect', additional_kwargs={}, response_metadata={}, id='run--7980dfa0-eddb-4c2e-bc82-10a16018ed3a')}, 'run_id': '7980dfa0-eddb-4c2e-bc82-10a16018ed3a', 'name': 'ChatOllama', 'tags': ['seq:step:1'], 'metadata': {'thread_id': '5', 'langgraph_step': 1, 'langgraph_node': 'SuperBot', 'langgraph_triggers': ('branch:to:SuperBot',), 'langgraph_path': ('__pregel_pull', 'SuperBot'), 'langgraph_checkpoint_ns': 'SuperBot:568dc40d-4eda-2dff-82fb-705c6562ab3b', 'checkpoint_ns': 'SuperBot:568dc40d-4eda-2dff-82fb-705c6562ab3b', 'ls_provider': 'ollama', 'ls_model_name': 'llama3.2', 'ls_model_type': 'chat', 'ls_temperature': None}, 'parent_ids': ['d937d269-53c1-4b72-8e8a-d62ea827782a', '76dc6793-15ce-4d49-842c-c4124238997b']}\n",
      "{'event': 'on_chat_model_stream', 'data': {'chunk': AIMessageChunk(content=' of', additional_kwargs={}, response_metadata={}, id='run--7980dfa0-eddb-4c2e-bc82-10a16018ed3a')}, 'run_id': '7980dfa0-eddb-4c2e-bc82-10a16018ed3a', 'name': 'ChatOllama', 'tags': ['seq:step:1'], 'metadata': {'thread_id': '5', 'langgraph_step': 1, 'langgraph_node': 'SuperBot', 'langgraph_triggers': ('branch:to:SuperBot',), 'langgraph_path': ('__pregel_pull', 'SuperBot'), 'langgraph_checkpoint_ns': 'SuperBot:568dc40d-4eda-2dff-82fb-705c6562ab3b', 'checkpoint_ns': 'SuperBot:568dc40d-4eda-2dff-82fb-705c6562ab3b', 'ls_provider': 'ollama', 'ls_model_name': 'llama3.2', 'ls_model_type': 'chat', 'ls_temperature': None}, 'parent_ids': ['d937d269-53c1-4b72-8e8a-d62ea827782a', '76dc6793-15ce-4d49-842c-c4124238997b']}\n",
      "{'event': 'on_chat_model_stream', 'data': {'chunk': AIMessageChunk(content=' the', additional_kwargs={}, response_metadata={}, id='run--7980dfa0-eddb-4c2e-bc82-10a16018ed3a')}, 'run_id': '7980dfa0-eddb-4c2e-bc82-10a16018ed3a', 'name': 'ChatOllama', 'tags': ['seq:step:1'], 'metadata': {'thread_id': '5', 'langgraph_step': 1, 'langgraph_node': 'SuperBot', 'langgraph_triggers': ('branch:to:SuperBot',), 'langgraph_path': ('__pregel_pull', 'SuperBot'), 'langgraph_checkpoint_ns': 'SuperBot:568dc40d-4eda-2dff-82fb-705c6562ab3b', 'checkpoint_ns': 'SuperBot:568dc40d-4eda-2dff-82fb-705c6562ab3b', 'ls_provider': 'ollama', 'ls_model_name': 'llama3.2', 'ls_model_type': 'chat', 'ls_temperature': None}, 'parent_ids': ['d937d269-53c1-4b72-8e8a-d62ea827782a', '76dc6793-15ce-4d49-842c-c4124238997b']}\n",
      "{'event': 'on_chat_model_stream', 'data': {'chunk': AIMessageChunk(content=' game', additional_kwargs={}, response_metadata={}, id='run--7980dfa0-eddb-4c2e-bc82-10a16018ed3a')}, 'run_id': '7980dfa0-eddb-4c2e-bc82-10a16018ed3a', 'name': 'ChatOllama', 'tags': ['seq:step:1'], 'metadata': {'thread_id': '5', 'langgraph_step': 1, 'langgraph_node': 'SuperBot', 'langgraph_triggers': ('branch:to:SuperBot',), 'langgraph_path': ('__pregel_pull', 'SuperBot'), 'langgraph_checkpoint_ns': 'SuperBot:568dc40d-4eda-2dff-82fb-705c6562ab3b', 'checkpoint_ns': 'SuperBot:568dc40d-4eda-2dff-82fb-705c6562ab3b', 'ls_provider': 'ollama', 'ls_model_name': 'llama3.2', 'ls_model_type': 'chat', 'ls_temperature': None}, 'parent_ids': ['d937d269-53c1-4b72-8e8a-d62ea827782a', '76dc6793-15ce-4d49-842c-c4124238997b']}\n",
      "{'event': 'on_chat_model_stream', 'data': {'chunk': AIMessageChunk(content=' -', additional_kwargs={}, response_metadata={}, id='run--7980dfa0-eddb-4c2e-bc82-10a16018ed3a')}, 'run_id': '7980dfa0-eddb-4c2e-bc82-10a16018ed3a', 'name': 'ChatOllama', 'tags': ['seq:step:1'], 'metadata': {'thread_id': '5', 'langgraph_step': 1, 'langgraph_node': 'SuperBot', 'langgraph_triggers': ('branch:to:SuperBot',), 'langgraph_path': ('__pregel_pull', 'SuperBot'), 'langgraph_checkpoint_ns': 'SuperBot:568dc40d-4eda-2dff-82fb-705c6562ab3b', 'checkpoint_ns': 'SuperBot:568dc40d-4eda-2dff-82fb-705c6562ab3b', 'ls_provider': 'ollama', 'ls_model_name': 'llama3.2', 'ls_model_type': 'chat', 'ls_temperature': None}, 'parent_ids': ['d937d269-53c1-4b72-8e8a-d62ea827782a', '76dc6793-15ce-4d49-842c-c4124238997b']}\n",
      "{'event': 'on_chat_model_stream', 'data': {'chunk': AIMessageChunk(content=' batting', additional_kwargs={}, response_metadata={}, id='run--7980dfa0-eddb-4c2e-bc82-10a16018ed3a')}, 'run_id': '7980dfa0-eddb-4c2e-bc82-10a16018ed3a', 'name': 'ChatOllama', 'tags': ['seq:step:1'], 'metadata': {'thread_id': '5', 'langgraph_step': 1, 'langgraph_node': 'SuperBot', 'langgraph_triggers': ('branch:to:SuperBot',), 'langgraph_path': ('__pregel_pull', 'SuperBot'), 'langgraph_checkpoint_ns': 'SuperBot:568dc40d-4eda-2dff-82fb-705c6562ab3b', 'checkpoint_ns': 'SuperBot:568dc40d-4eda-2dff-82fb-705c6562ab3b', 'ls_provider': 'ollama', 'ls_model_name': 'llama3.2', 'ls_model_type': 'chat', 'ls_temperature': None}, 'parent_ids': ['d937d269-53c1-4b72-8e8a-d62ea827782a', '76dc6793-15ce-4d49-842c-c4124238997b']}\n",
      "{'event': 'on_chat_model_stream', 'data': {'chunk': AIMessageChunk(content=',', additional_kwargs={}, response_metadata={}, id='run--7980dfa0-eddb-4c2e-bc82-10a16018ed3a')}, 'run_id': '7980dfa0-eddb-4c2e-bc82-10a16018ed3a', 'name': 'ChatOllama', 'tags': ['seq:step:1'], 'metadata': {'thread_id': '5', 'langgraph_step': 1, 'langgraph_node': 'SuperBot', 'langgraph_triggers': ('branch:to:SuperBot',), 'langgraph_path': ('__pregel_pull', 'SuperBot'), 'langgraph_checkpoint_ns': 'SuperBot:568dc40d-4eda-2dff-82fb-705c6562ab3b', 'checkpoint_ns': 'SuperBot:568dc40d-4eda-2dff-82fb-705c6562ab3b', 'ls_provider': 'ollama', 'ls_model_name': 'llama3.2', 'ls_model_type': 'chat', 'ls_temperature': None}, 'parent_ids': ['d937d269-53c1-4b72-8e8a-d62ea827782a', '76dc6793-15ce-4d49-842c-c4124238997b']}\n",
      "{'event': 'on_chat_model_stream', 'data': {'chunk': AIMessageChunk(content=' bowling', additional_kwargs={}, response_metadata={}, id='run--7980dfa0-eddb-4c2e-bc82-10a16018ed3a')}, 'run_id': '7980dfa0-eddb-4c2e-bc82-10a16018ed3a', 'name': 'ChatOllama', 'tags': ['seq:step:1'], 'metadata': {'thread_id': '5', 'langgraph_step': 1, 'langgraph_node': 'SuperBot', 'langgraph_triggers': ('branch:to:SuperBot',), 'langgraph_path': ('__pregel_pull', 'SuperBot'), 'langgraph_checkpoint_ns': 'SuperBot:568dc40d-4eda-2dff-82fb-705c6562ab3b', 'checkpoint_ns': 'SuperBot:568dc40d-4eda-2dff-82fb-705c6562ab3b', 'ls_provider': 'ollama', 'ls_model_name': 'llama3.2', 'ls_model_type': 'chat', 'ls_temperature': None}, 'parent_ids': ['d937d269-53c1-4b72-8e8a-d62ea827782a', '76dc6793-15ce-4d49-842c-c4124238997b']}\n",
      "{'event': 'on_chat_model_stream', 'data': {'chunk': AIMessageChunk(content=',', additional_kwargs={}, response_metadata={}, id='run--7980dfa0-eddb-4c2e-bc82-10a16018ed3a')}, 'run_id': '7980dfa0-eddb-4c2e-bc82-10a16018ed3a', 'name': 'ChatOllama', 'tags': ['seq:step:1'], 'metadata': {'thread_id': '5', 'langgraph_step': 1, 'langgraph_node': 'SuperBot', 'langgraph_triggers': ('branch:to:SuperBot',), 'langgraph_path': ('__pregel_pull', 'SuperBot'), 'langgraph_checkpoint_ns': 'SuperBot:568dc40d-4eda-2dff-82fb-705c6562ab3b', 'checkpoint_ns': 'SuperBot:568dc40d-4eda-2dff-82fb-705c6562ab3b', 'ls_provider': 'ollama', 'ls_model_name': 'llama3.2', 'ls_model_type': 'chat', 'ls_temperature': None}, 'parent_ids': ['d937d269-53c1-4b72-8e8a-d62ea827782a', '76dc6793-15ce-4d49-842c-c4124238997b']}\n",
      "{'event': 'on_chat_model_stream', 'data': {'chunk': AIMessageChunk(content=' or', additional_kwargs={}, response_metadata={}, id='run--7980dfa0-eddb-4c2e-bc82-10a16018ed3a')}, 'run_id': '7980dfa0-eddb-4c2e-bc82-10a16018ed3a', 'name': 'ChatOllama', 'tags': ['seq:step:1'], 'metadata': {'thread_id': '5', 'langgraph_step': 1, 'langgraph_node': 'SuperBot', 'langgraph_triggers': ('branch:to:SuperBot',), 'langgraph_path': ('__pregel_pull', 'SuperBot'), 'langgraph_checkpoint_ns': 'SuperBot:568dc40d-4eda-2dff-82fb-705c6562ab3b', 'checkpoint_ns': 'SuperBot:568dc40d-4eda-2dff-82fb-705c6562ab3b', 'ls_provider': 'ollama', 'ls_model_name': 'llama3.2', 'ls_model_type': 'chat', 'ls_temperature': None}, 'parent_ids': ['d937d269-53c1-4b72-8e8a-d62ea827782a', '76dc6793-15ce-4d49-842c-c4124238997b']}\n",
      "{'event': 'on_chat_model_stream', 'data': {'chunk': AIMessageChunk(content=' field', additional_kwargs={}, response_metadata={}, id='run--7980dfa0-eddb-4c2e-bc82-10a16018ed3a')}, 'run_id': '7980dfa0-eddb-4c2e-bc82-10a16018ed3a', 'name': 'ChatOllama', 'tags': ['seq:step:1'], 'metadata': {'thread_id': '5', 'langgraph_step': 1, 'langgraph_node': 'SuperBot', 'langgraph_triggers': ('branch:to:SuperBot',), 'langgraph_path': ('__pregel_pull', 'SuperBot'), 'langgraph_checkpoint_ns': 'SuperBot:568dc40d-4eda-2dff-82fb-705c6562ab3b', 'checkpoint_ns': 'SuperBot:568dc40d-4eda-2dff-82fb-705c6562ab3b', 'ls_provider': 'ollama', 'ls_model_name': 'llama3.2', 'ls_model_type': 'chat', 'ls_temperature': None}, 'parent_ids': ['d937d269-53c1-4b72-8e8a-d62ea827782a', '76dc6793-15ce-4d49-842c-c4124238997b']}\n",
      "{'event': 'on_chat_model_stream', 'data': {'chunk': AIMessageChunk(content='ing', additional_kwargs={}, response_metadata={}, id='run--7980dfa0-eddb-4c2e-bc82-10a16018ed3a')}, 'run_id': '7980dfa0-eddb-4c2e-bc82-10a16018ed3a', 'name': 'ChatOllama', 'tags': ['seq:step:1'], 'metadata': {'thread_id': '5', 'langgraph_step': 1, 'langgraph_node': 'SuperBot', 'langgraph_triggers': ('branch:to:SuperBot',), 'langgraph_path': ('__pregel_pull', 'SuperBot'), 'langgraph_checkpoint_ns': 'SuperBot:568dc40d-4eda-2dff-82fb-705c6562ab3b', 'checkpoint_ns': 'SuperBot:568dc40d-4eda-2dff-82fb-705c6562ab3b', 'ls_provider': 'ollama', 'ls_model_name': 'llama3.2', 'ls_model_type': 'chat', 'ls_temperature': None}, 'parent_ids': ['d937d269-53c1-4b72-8e8a-d62ea827782a', '76dc6793-15ce-4d49-842c-c4124238997b']}\n",
      "{'event': 'on_chat_model_stream', 'data': {'chunk': AIMessageChunk(content='?', additional_kwargs={}, response_metadata={}, id='run--7980dfa0-eddb-4c2e-bc82-10a16018ed3a')}, 'run_id': '7980dfa0-eddb-4c2e-bc82-10a16018ed3a', 'name': 'ChatOllama', 'tags': ['seq:step:1'], 'metadata': {'thread_id': '5', 'langgraph_step': 1, 'langgraph_node': 'SuperBot', 'langgraph_triggers': ('branch:to:SuperBot',), 'langgraph_path': ('__pregel_pull', 'SuperBot'), 'langgraph_checkpoint_ns': 'SuperBot:568dc40d-4eda-2dff-82fb-705c6562ab3b', 'checkpoint_ns': 'SuperBot:568dc40d-4eda-2dff-82fb-705c6562ab3b', 'ls_provider': 'ollama', 'ls_model_name': 'llama3.2', 'ls_model_type': 'chat', 'ls_temperature': None}, 'parent_ids': ['d937d269-53c1-4b72-8e8a-d62ea827782a', '76dc6793-15ce-4d49-842c-c4124238997b']}\n",
      "{'event': 'on_chat_model_stream', 'data': {'chunk': AIMessageChunk(content=' Do', additional_kwargs={}, response_metadata={}, id='run--7980dfa0-eddb-4c2e-bc82-10a16018ed3a')}, 'run_id': '7980dfa0-eddb-4c2e-bc82-10a16018ed3a', 'name': 'ChatOllama', 'tags': ['seq:step:1'], 'metadata': {'thread_id': '5', 'langgraph_step': 1, 'langgraph_node': 'SuperBot', 'langgraph_triggers': ('branch:to:SuperBot',), 'langgraph_path': ('__pregel_pull', 'SuperBot'), 'langgraph_checkpoint_ns': 'SuperBot:568dc40d-4eda-2dff-82fb-705c6562ab3b', 'checkpoint_ns': 'SuperBot:568dc40d-4eda-2dff-82fb-705c6562ab3b', 'ls_provider': 'ollama', 'ls_model_name': 'llama3.2', 'ls_model_type': 'chat', 'ls_temperature': None}, 'parent_ids': ['d937d269-53c1-4b72-8e8a-d62ea827782a', '76dc6793-15ce-4d49-842c-c4124238997b']}\n",
      "{'event': 'on_chat_model_stream', 'data': {'chunk': AIMessageChunk(content=' you', additional_kwargs={}, response_metadata={}, id='run--7980dfa0-eddb-4c2e-bc82-10a16018ed3a')}, 'run_id': '7980dfa0-eddb-4c2e-bc82-10a16018ed3a', 'name': 'ChatOllama', 'tags': ['seq:step:1'], 'metadata': {'thread_id': '5', 'langgraph_step': 1, 'langgraph_node': 'SuperBot', 'langgraph_triggers': ('branch:to:SuperBot',), 'langgraph_path': ('__pregel_pull', 'SuperBot'), 'langgraph_checkpoint_ns': 'SuperBot:568dc40d-4eda-2dff-82fb-705c6562ab3b', 'checkpoint_ns': 'SuperBot:568dc40d-4eda-2dff-82fb-705c6562ab3b', 'ls_provider': 'ollama', 'ls_model_name': 'llama3.2', 'ls_model_type': 'chat', 'ls_temperature': None}, 'parent_ids': ['d937d269-53c1-4b72-8e8a-d62ea827782a', '76dc6793-15ce-4d49-842c-c4124238997b']}\n",
      "{'event': 'on_chat_model_stream', 'data': {'chunk': AIMessageChunk(content=' have', additional_kwargs={}, response_metadata={}, id='run--7980dfa0-eddb-4c2e-bc82-10a16018ed3a')}, 'run_id': '7980dfa0-eddb-4c2e-bc82-10a16018ed3a', 'name': 'ChatOllama', 'tags': ['seq:step:1'], 'metadata': {'thread_id': '5', 'langgraph_step': 1, 'langgraph_node': 'SuperBot', 'langgraph_triggers': ('branch:to:SuperBot',), 'langgraph_path': ('__pregel_pull', 'SuperBot'), 'langgraph_checkpoint_ns': 'SuperBot:568dc40d-4eda-2dff-82fb-705c6562ab3b', 'checkpoint_ns': 'SuperBot:568dc40d-4eda-2dff-82fb-705c6562ab3b', 'ls_provider': 'ollama', 'ls_model_name': 'llama3.2', 'ls_model_type': 'chat', 'ls_temperature': None}, 'parent_ids': ['d937d269-53c1-4b72-8e8a-d62ea827782a', '76dc6793-15ce-4d49-842c-c4124238997b']}\n",
      "{'event': 'on_chat_model_stream', 'data': {'chunk': AIMessageChunk(content=' a', additional_kwargs={}, response_metadata={}, id='run--7980dfa0-eddb-4c2e-bc82-10a16018ed3a')}, 'run_id': '7980dfa0-eddb-4c2e-bc82-10a16018ed3a', 'name': 'ChatOllama', 'tags': ['seq:step:1'], 'metadata': {'thread_id': '5', 'langgraph_step': 1, 'langgraph_node': 'SuperBot', 'langgraph_triggers': ('branch:to:SuperBot',), 'langgraph_path': ('__pregel_pull', 'SuperBot'), 'langgraph_checkpoint_ns': 'SuperBot:568dc40d-4eda-2dff-82fb-705c6562ab3b', 'checkpoint_ns': 'SuperBot:568dc40d-4eda-2dff-82fb-705c6562ab3b', 'ls_provider': 'ollama', 'ls_model_name': 'llama3.2', 'ls_model_type': 'chat', 'ls_temperature': None}, 'parent_ids': ['d937d269-53c1-4b72-8e8a-d62ea827782a', '76dc6793-15ce-4d49-842c-c4124238997b']}\n",
      "{'event': 'on_chat_model_stream', 'data': {'chunk': AIMessageChunk(content=' favorite', additional_kwargs={}, response_metadata={}, id='run--7980dfa0-eddb-4c2e-bc82-10a16018ed3a')}, 'run_id': '7980dfa0-eddb-4c2e-bc82-10a16018ed3a', 'name': 'ChatOllama', 'tags': ['seq:step:1'], 'metadata': {'thread_id': '5', 'langgraph_step': 1, 'langgraph_node': 'SuperBot', 'langgraph_triggers': ('branch:to:SuperBot',), 'langgraph_path': ('__pregel_pull', 'SuperBot'), 'langgraph_checkpoint_ns': 'SuperBot:568dc40d-4eda-2dff-82fb-705c6562ab3b', 'checkpoint_ns': 'SuperBot:568dc40d-4eda-2dff-82fb-705c6562ab3b', 'ls_provider': 'ollama', 'ls_model_name': 'llama3.2', 'ls_model_type': 'chat', 'ls_temperature': None}, 'parent_ids': ['d937d269-53c1-4b72-8e8a-d62ea827782a', '76dc6793-15ce-4d49-842c-c4124238997b']}\n",
      "{'event': 'on_chat_model_stream', 'data': {'chunk': AIMessageChunk(content=' team', additional_kwargs={}, response_metadata={}, id='run--7980dfa0-eddb-4c2e-bc82-10a16018ed3a')}, 'run_id': '7980dfa0-eddb-4c2e-bc82-10a16018ed3a', 'name': 'ChatOllama', 'tags': ['seq:step:1'], 'metadata': {'thread_id': '5', 'langgraph_step': 1, 'langgraph_node': 'SuperBot', 'langgraph_triggers': ('branch:to:SuperBot',), 'langgraph_path': ('__pregel_pull', 'SuperBot'), 'langgraph_checkpoint_ns': 'SuperBot:568dc40d-4eda-2dff-82fb-705c6562ab3b', 'checkpoint_ns': 'SuperBot:568dc40d-4eda-2dff-82fb-705c6562ab3b', 'ls_provider': 'ollama', 'ls_model_name': 'llama3.2', 'ls_model_type': 'chat', 'ls_temperature': None}, 'parent_ids': ['d937d269-53c1-4b72-8e8a-d62ea827782a', '76dc6793-15ce-4d49-842c-c4124238997b']}\n",
      "{'event': 'on_chat_model_stream', 'data': {'chunk': AIMessageChunk(content=' or', additional_kwargs={}, response_metadata={}, id='run--7980dfa0-eddb-4c2e-bc82-10a16018ed3a')}, 'run_id': '7980dfa0-eddb-4c2e-bc82-10a16018ed3a', 'name': 'ChatOllama', 'tags': ['seq:step:1'], 'metadata': {'thread_id': '5', 'langgraph_step': 1, 'langgraph_node': 'SuperBot', 'langgraph_triggers': ('branch:to:SuperBot',), 'langgraph_path': ('__pregel_pull', 'SuperBot'), 'langgraph_checkpoint_ns': 'SuperBot:568dc40d-4eda-2dff-82fb-705c6562ab3b', 'checkpoint_ns': 'SuperBot:568dc40d-4eda-2dff-82fb-705c6562ab3b', 'ls_provider': 'ollama', 'ls_model_name': 'llama3.2', 'ls_model_type': 'chat', 'ls_temperature': None}, 'parent_ids': ['d937d269-53c1-4b72-8e8a-d62ea827782a', '76dc6793-15ce-4d49-842c-c4124238997b']}\n",
      "{'event': 'on_chat_model_stream', 'data': {'chunk': AIMessageChunk(content=' player', additional_kwargs={}, response_metadata={}, id='run--7980dfa0-eddb-4c2e-bc82-10a16018ed3a')}, 'run_id': '7980dfa0-eddb-4c2e-bc82-10a16018ed3a', 'name': 'ChatOllama', 'tags': ['seq:step:1'], 'metadata': {'thread_id': '5', 'langgraph_step': 1, 'langgraph_node': 'SuperBot', 'langgraph_triggers': ('branch:to:SuperBot',), 'langgraph_path': ('__pregel_pull', 'SuperBot'), 'langgraph_checkpoint_ns': 'SuperBot:568dc40d-4eda-2dff-82fb-705c6562ab3b', 'checkpoint_ns': 'SuperBot:568dc40d-4eda-2dff-82fb-705c6562ab3b', 'ls_provider': 'ollama', 'ls_model_name': 'llama3.2', 'ls_model_type': 'chat', 'ls_temperature': None}, 'parent_ids': ['d937d269-53c1-4b72-8e8a-d62ea827782a', '76dc6793-15ce-4d49-842c-c4124238997b']}\n",
      "{'event': 'on_chat_model_stream', 'data': {'chunk': AIMessageChunk(content=' that', additional_kwargs={}, response_metadata={}, id='run--7980dfa0-eddb-4c2e-bc82-10a16018ed3a')}, 'run_id': '7980dfa0-eddb-4c2e-bc82-10a16018ed3a', 'name': 'ChatOllama', 'tags': ['seq:step:1'], 'metadata': {'thread_id': '5', 'langgraph_step': 1, 'langgraph_node': 'SuperBot', 'langgraph_triggers': ('branch:to:SuperBot',), 'langgraph_path': ('__pregel_pull', 'SuperBot'), 'langgraph_checkpoint_ns': 'SuperBot:568dc40d-4eda-2dff-82fb-705c6562ab3b', 'checkpoint_ns': 'SuperBot:568dc40d-4eda-2dff-82fb-705c6562ab3b', 'ls_provider': 'ollama', 'ls_model_name': 'llama3.2', 'ls_model_type': 'chat', 'ls_temperature': None}, 'parent_ids': ['d937d269-53c1-4b72-8e8a-d62ea827782a', '76dc6793-15ce-4d49-842c-c4124238997b']}\n",
      "{'event': 'on_chat_model_stream', 'data': {'chunk': AIMessageChunk(content=' you', additional_kwargs={}, response_metadata={}, id='run--7980dfa0-eddb-4c2e-bc82-10a16018ed3a')}, 'run_id': '7980dfa0-eddb-4c2e-bc82-10a16018ed3a', 'name': 'ChatOllama', 'tags': ['seq:step:1'], 'metadata': {'thread_id': '5', 'langgraph_step': 1, 'langgraph_node': 'SuperBot', 'langgraph_triggers': ('branch:to:SuperBot',), 'langgraph_path': ('__pregel_pull', 'SuperBot'), 'langgraph_checkpoint_ns': 'SuperBot:568dc40d-4eda-2dff-82fb-705c6562ab3b', 'checkpoint_ns': 'SuperBot:568dc40d-4eda-2dff-82fb-705c6562ab3b', 'ls_provider': 'ollama', 'ls_model_name': 'llama3.2', 'ls_model_type': 'chat', 'ls_temperature': None}, 'parent_ids': ['d937d269-53c1-4b72-8e8a-d62ea827782a', '76dc6793-15ce-4d49-842c-c4124238997b']}\n",
      "{'event': 'on_chat_model_stream', 'data': {'chunk': AIMessageChunk(content=' look', additional_kwargs={}, response_metadata={}, id='run--7980dfa0-eddb-4c2e-bc82-10a16018ed3a')}, 'run_id': '7980dfa0-eddb-4c2e-bc82-10a16018ed3a', 'name': 'ChatOllama', 'tags': ['seq:step:1'], 'metadata': {'thread_id': '5', 'langgraph_step': 1, 'langgraph_node': 'SuperBot', 'langgraph_triggers': ('branch:to:SuperBot',), 'langgraph_path': ('__pregel_pull', 'SuperBot'), 'langgraph_checkpoint_ns': 'SuperBot:568dc40d-4eda-2dff-82fb-705c6562ab3b', 'checkpoint_ns': 'SuperBot:568dc40d-4eda-2dff-82fb-705c6562ab3b', 'ls_provider': 'ollama', 'ls_model_name': 'llama3.2', 'ls_model_type': 'chat', 'ls_temperature': None}, 'parent_ids': ['d937d269-53c1-4b72-8e8a-d62ea827782a', '76dc6793-15ce-4d49-842c-c4124238997b']}\n",
      "{'event': 'on_chat_model_stream', 'data': {'chunk': AIMessageChunk(content=' up', additional_kwargs={}, response_metadata={}, id='run--7980dfa0-eddb-4c2e-bc82-10a16018ed3a')}, 'run_id': '7980dfa0-eddb-4c2e-bc82-10a16018ed3a', 'name': 'ChatOllama', 'tags': ['seq:step:1'], 'metadata': {'thread_id': '5', 'langgraph_step': 1, 'langgraph_node': 'SuperBot', 'langgraph_triggers': ('branch:to:SuperBot',), 'langgraph_path': ('__pregel_pull', 'SuperBot'), 'langgraph_checkpoint_ns': 'SuperBot:568dc40d-4eda-2dff-82fb-705c6562ab3b', 'checkpoint_ns': 'SuperBot:568dc40d-4eda-2dff-82fb-705c6562ab3b', 'ls_provider': 'ollama', 'ls_model_name': 'llama3.2', 'ls_model_type': 'chat', 'ls_temperature': None}, 'parent_ids': ['d937d269-53c1-4b72-8e8a-d62ea827782a', '76dc6793-15ce-4d49-842c-c4124238997b']}\n",
      "{'event': 'on_chat_model_stream', 'data': {'chunk': AIMessageChunk(content=' to', additional_kwargs={}, response_metadata={}, id='run--7980dfa0-eddb-4c2e-bc82-10a16018ed3a')}, 'run_id': '7980dfa0-eddb-4c2e-bc82-10a16018ed3a', 'name': 'ChatOllama', 'tags': ['seq:step:1'], 'metadata': {'thread_id': '5', 'langgraph_step': 1, 'langgraph_node': 'SuperBot', 'langgraph_triggers': ('branch:to:SuperBot',), 'langgraph_path': ('__pregel_pull', 'SuperBot'), 'langgraph_checkpoint_ns': 'SuperBot:568dc40d-4eda-2dff-82fb-705c6562ab3b', 'checkpoint_ns': 'SuperBot:568dc40d-4eda-2dff-82fb-705c6562ab3b', 'ls_provider': 'ollama', 'ls_model_name': 'llama3.2', 'ls_model_type': 'chat', 'ls_temperature': None}, 'parent_ids': ['d937d269-53c1-4b72-8e8a-d62ea827782a', '76dc6793-15ce-4d49-842c-c4124238997b']}\n",
      "{'event': 'on_chat_model_stream', 'data': {'chunk': AIMessageChunk(content='?\\n\\n', additional_kwargs={}, response_metadata={}, id='run--7980dfa0-eddb-4c2e-bc82-10a16018ed3a')}, 'run_id': '7980dfa0-eddb-4c2e-bc82-10a16018ed3a', 'name': 'ChatOllama', 'tags': ['seq:step:1'], 'metadata': {'thread_id': '5', 'langgraph_step': 1, 'langgraph_node': 'SuperBot', 'langgraph_triggers': ('branch:to:SuperBot',), 'langgraph_path': ('__pregel_pull', 'SuperBot'), 'langgraph_checkpoint_ns': 'SuperBot:568dc40d-4eda-2dff-82fb-705c6562ab3b', 'checkpoint_ns': 'SuperBot:568dc40d-4eda-2dff-82fb-705c6562ab3b', 'ls_provider': 'ollama', 'ls_model_name': 'llama3.2', 'ls_model_type': 'chat', 'ls_temperature': None}, 'parent_ids': ['d937d269-53c1-4b72-8e8a-d62ea827782a', '76dc6793-15ce-4d49-842c-c4124238997b']}\n",
      "{'event': 'on_chat_model_stream', 'data': {'chunk': AIMessageChunk(content='By', additional_kwargs={}, response_metadata={}, id='run--7980dfa0-eddb-4c2e-bc82-10a16018ed3a')}, 'run_id': '7980dfa0-eddb-4c2e-bc82-10a16018ed3a', 'name': 'ChatOllama', 'tags': ['seq:step:1'], 'metadata': {'thread_id': '5', 'langgraph_step': 1, 'langgraph_node': 'SuperBot', 'langgraph_triggers': ('branch:to:SuperBot',), 'langgraph_path': ('__pregel_pull', 'SuperBot'), 'langgraph_checkpoint_ns': 'SuperBot:568dc40d-4eda-2dff-82fb-705c6562ab3b', 'checkpoint_ns': 'SuperBot:568dc40d-4eda-2dff-82fb-705c6562ab3b', 'ls_provider': 'ollama', 'ls_model_name': 'llama3.2', 'ls_model_type': 'chat', 'ls_temperature': None}, 'parent_ids': ['d937d269-53c1-4b72-8e8a-d62ea827782a', '76dc6793-15ce-4d49-842c-c4124238997b']}\n",
      "{'event': 'on_chat_model_stream', 'data': {'chunk': AIMessageChunk(content=' the', additional_kwargs={}, response_metadata={}, id='run--7980dfa0-eddb-4c2e-bc82-10a16018ed3a')}, 'run_id': '7980dfa0-eddb-4c2e-bc82-10a16018ed3a', 'name': 'ChatOllama', 'tags': ['seq:step:1'], 'metadata': {'thread_id': '5', 'langgraph_step': 1, 'langgraph_node': 'SuperBot', 'langgraph_triggers': ('branch:to:SuperBot',), 'langgraph_path': ('__pregel_pull', 'SuperBot'), 'langgraph_checkpoint_ns': 'SuperBot:568dc40d-4eda-2dff-82fb-705c6562ab3b', 'checkpoint_ns': 'SuperBot:568dc40d-4eda-2dff-82fb-705c6562ab3b', 'ls_provider': 'ollama', 'ls_model_name': 'llama3.2', 'ls_model_type': 'chat', 'ls_temperature': None}, 'parent_ids': ['d937d269-53c1-4b72-8e8a-d62ea827782a', '76dc6793-15ce-4d49-842c-c4124238997b']}\n",
      "{'event': 'on_chat_model_stream', 'data': {'chunk': AIMessageChunk(content=' way', additional_kwargs={}, response_metadata={}, id='run--7980dfa0-eddb-4c2e-bc82-10a16018ed3a')}, 'run_id': '7980dfa0-eddb-4c2e-bc82-10a16018ed3a', 'name': 'ChatOllama', 'tags': ['seq:step:1'], 'metadata': {'thread_id': '5', 'langgraph_step': 1, 'langgraph_node': 'SuperBot', 'langgraph_triggers': ('branch:to:SuperBot',), 'langgraph_path': ('__pregel_pull', 'SuperBot'), 'langgraph_checkpoint_ns': 'SuperBot:568dc40d-4eda-2dff-82fb-705c6562ab3b', 'checkpoint_ns': 'SuperBot:568dc40d-4eda-2dff-82fb-705c6562ab3b', 'ls_provider': 'ollama', 'ls_model_name': 'llama3.2', 'ls_model_type': 'chat', 'ls_temperature': None}, 'parent_ids': ['d937d269-53c1-4b72-8e8a-d62ea827782a', '76dc6793-15ce-4d49-842c-c4124238997b']}\n",
      "{'event': 'on_chat_model_stream', 'data': {'chunk': AIMessageChunk(content=',', additional_kwargs={}, response_metadata={}, id='run--7980dfa0-eddb-4c2e-bc82-10a16018ed3a')}, 'run_id': '7980dfa0-eddb-4c2e-bc82-10a16018ed3a', 'name': 'ChatOllama', 'tags': ['seq:step:1'], 'metadata': {'thread_id': '5', 'langgraph_step': 1, 'langgraph_node': 'SuperBot', 'langgraph_triggers': ('branch:to:SuperBot',), 'langgraph_path': ('__pregel_pull', 'SuperBot'), 'langgraph_checkpoint_ns': 'SuperBot:568dc40d-4eda-2dff-82fb-705c6562ab3b', 'checkpoint_ns': 'SuperBot:568dc40d-4eda-2dff-82fb-705c6562ab3b', 'ls_provider': 'ollama', 'ls_model_name': 'llama3.2', 'ls_model_type': 'chat', 'ls_temperature': None}, 'parent_ids': ['d937d269-53c1-4b72-8e8a-d62ea827782a', '76dc6793-15ce-4d49-842c-c4124238997b']}\n",
      "{'event': 'on_chat_model_stream', 'data': {'chunk': AIMessageChunk(content=' what', additional_kwargs={}, response_metadata={}, id='run--7980dfa0-eddb-4c2e-bc82-10a16018ed3a')}, 'run_id': '7980dfa0-eddb-4c2e-bc82-10a16018ed3a', 'name': 'ChatOllama', 'tags': ['seq:step:1'], 'metadata': {'thread_id': '5', 'langgraph_step': 1, 'langgraph_node': 'SuperBot', 'langgraph_triggers': ('branch:to:SuperBot',), 'langgraph_path': ('__pregel_pull', 'SuperBot'), 'langgraph_checkpoint_ns': 'SuperBot:568dc40d-4eda-2dff-82fb-705c6562ab3b', 'checkpoint_ns': 'SuperBot:568dc40d-4eda-2dff-82fb-705c6562ab3b', 'ls_provider': 'ollama', 'ls_model_name': 'llama3.2', 'ls_model_type': 'chat', 'ls_temperature': None}, 'parent_ids': ['d937d269-53c1-4b72-8e8a-d62ea827782a', '76dc6793-15ce-4d49-842c-c4124238997b']}\n",
      "{'event': 'on_chat_model_stream', 'data': {'chunk': AIMessageChunk(content=\"'s\", additional_kwargs={}, response_metadata={}, id='run--7980dfa0-eddb-4c2e-bc82-10a16018ed3a')}, 'run_id': '7980dfa0-eddb-4c2e-bc82-10a16018ed3a', 'name': 'ChatOllama', 'tags': ['seq:step:1'], 'metadata': {'thread_id': '5', 'langgraph_step': 1, 'langgraph_node': 'SuperBot', 'langgraph_triggers': ('branch:to:SuperBot',), 'langgraph_path': ('__pregel_pull', 'SuperBot'), 'langgraph_checkpoint_ns': 'SuperBot:568dc40d-4eda-2dff-82fb-705c6562ab3b', 'checkpoint_ns': 'SuperBot:568dc40d-4eda-2dff-82fb-705c6562ab3b', 'ls_provider': 'ollama', 'ls_model_name': 'llama3.2', 'ls_model_type': 'chat', 'ls_temperature': None}, 'parent_ids': ['d937d269-53c1-4b72-8e8a-d62ea827782a', '76dc6793-15ce-4d49-842c-c4124238997b']}\n",
      "{'event': 'on_chat_model_stream', 'data': {'chunk': AIMessageChunk(content=' your', additional_kwargs={}, response_metadata={}, id='run--7980dfa0-eddb-4c2e-bc82-10a16018ed3a')}, 'run_id': '7980dfa0-eddb-4c2e-bc82-10a16018ed3a', 'name': 'ChatOllama', 'tags': ['seq:step:1'], 'metadata': {'thread_id': '5', 'langgraph_step': 1, 'langgraph_node': 'SuperBot', 'langgraph_triggers': ('branch:to:SuperBot',), 'langgraph_path': ('__pregel_pull', 'SuperBot'), 'langgraph_checkpoint_ns': 'SuperBot:568dc40d-4eda-2dff-82fb-705c6562ab3b', 'checkpoint_ns': 'SuperBot:568dc40d-4eda-2dff-82fb-705c6562ab3b', 'ls_provider': 'ollama', 'ls_model_name': 'llama3.2', 'ls_model_type': 'chat', 'ls_temperature': None}, 'parent_ids': ['d937d269-53c1-4b72-8e8a-d62ea827782a', '76dc6793-15ce-4d49-842c-c4124238997b']}\n",
      "{'event': 'on_chat_model_stream', 'data': {'chunk': AIMessageChunk(content=' current', additional_kwargs={}, response_metadata={}, id='run--7980dfa0-eddb-4c2e-bc82-10a16018ed3a')}, 'run_id': '7980dfa0-eddb-4c2e-bc82-10a16018ed3a', 'name': 'ChatOllama', 'tags': ['seq:step:1'], 'metadata': {'thread_id': '5', 'langgraph_step': 1, 'langgraph_node': 'SuperBot', 'langgraph_triggers': ('branch:to:SuperBot',), 'langgraph_path': ('__pregel_pull', 'SuperBot'), 'langgraph_checkpoint_ns': 'SuperBot:568dc40d-4eda-2dff-82fb-705c6562ab3b', 'checkpoint_ns': 'SuperBot:568dc40d-4eda-2dff-82fb-705c6562ab3b', 'ls_provider': 'ollama', 'ls_model_name': 'llama3.2', 'ls_model_type': 'chat', 'ls_temperature': None}, 'parent_ids': ['d937d269-53c1-4b72-8e8a-d62ea827782a', '76dc6793-15ce-4d49-842c-c4124238997b']}\n",
      "{'event': 'on_chat_model_stream', 'data': {'chunk': AIMessageChunk(content=' skill', additional_kwargs={}, response_metadata={}, id='run--7980dfa0-eddb-4c2e-bc82-10a16018ed3a')}, 'run_id': '7980dfa0-eddb-4c2e-bc82-10a16018ed3a', 'name': 'ChatOllama', 'tags': ['seq:step:1'], 'metadata': {'thread_id': '5', 'langgraph_step': 1, 'langgraph_node': 'SuperBot', 'langgraph_triggers': ('branch:to:SuperBot',), 'langgraph_path': ('__pregel_pull', 'SuperBot'), 'langgraph_checkpoint_ns': 'SuperBot:568dc40d-4eda-2dff-82fb-705c6562ab3b', 'checkpoint_ns': 'SuperBot:568dc40d-4eda-2dff-82fb-705c6562ab3b', 'ls_provider': 'ollama', 'ls_model_name': 'llama3.2', 'ls_model_type': 'chat', 'ls_temperature': None}, 'parent_ids': ['d937d269-53c1-4b72-8e8a-d62ea827782a', '76dc6793-15ce-4d49-842c-c4124238997b']}\n",
      "{'event': 'on_chat_model_stream', 'data': {'chunk': AIMessageChunk(content=' level', additional_kwargs={}, response_metadata={}, id='run--7980dfa0-eddb-4c2e-bc82-10a16018ed3a')}, 'run_id': '7980dfa0-eddb-4c2e-bc82-10a16018ed3a', 'name': 'ChatOllama', 'tags': ['seq:step:1'], 'metadata': {'thread_id': '5', 'langgraph_step': 1, 'langgraph_node': 'SuperBot', 'langgraph_triggers': ('branch:to:SuperBot',), 'langgraph_path': ('__pregel_pull', 'SuperBot'), 'langgraph_checkpoint_ns': 'SuperBot:568dc40d-4eda-2dff-82fb-705c6562ab3b', 'checkpoint_ns': 'SuperBot:568dc40d-4eda-2dff-82fb-705c6562ab3b', 'ls_provider': 'ollama', 'ls_model_name': 'llama3.2', 'ls_model_type': 'chat', 'ls_temperature': None}, 'parent_ids': ['d937d269-53c1-4b72-8e8a-d62ea827782a', '76dc6793-15ce-4d49-842c-c4124238997b']}\n",
      "{'event': 'on_chat_model_stream', 'data': {'chunk': AIMessageChunk(content=' in', additional_kwargs={}, response_metadata={}, id='run--7980dfa0-eddb-4c2e-bc82-10a16018ed3a')}, 'run_id': '7980dfa0-eddb-4c2e-bc82-10a16018ed3a', 'name': 'ChatOllama', 'tags': ['seq:step:1'], 'metadata': {'thread_id': '5', 'langgraph_step': 1, 'langgraph_node': 'SuperBot', 'langgraph_triggers': ('branch:to:SuperBot',), 'langgraph_path': ('__pregel_pull', 'SuperBot'), 'langgraph_checkpoint_ns': 'SuperBot:568dc40d-4eda-2dff-82fb-705c6562ab3b', 'checkpoint_ns': 'SuperBot:568dc40d-4eda-2dff-82fb-705c6562ab3b', 'ls_provider': 'ollama', 'ls_model_name': 'llama3.2', 'ls_model_type': 'chat', 'ls_temperature': None}, 'parent_ids': ['d937d269-53c1-4b72-8e8a-d62ea827782a', '76dc6793-15ce-4d49-842c-c4124238997b']}\n",
      "{'event': 'on_chat_model_stream', 'data': {'chunk': AIMessageChunk(content=' cricket', additional_kwargs={}, response_metadata={}, id='run--7980dfa0-eddb-4c2e-bc82-10a16018ed3a')}, 'run_id': '7980dfa0-eddb-4c2e-bc82-10a16018ed3a', 'name': 'ChatOllama', 'tags': ['seq:step:1'], 'metadata': {'thread_id': '5', 'langgraph_step': 1, 'langgraph_node': 'SuperBot', 'langgraph_triggers': ('branch:to:SuperBot',), 'langgraph_path': ('__pregel_pull', 'SuperBot'), 'langgraph_checkpoint_ns': 'SuperBot:568dc40d-4eda-2dff-82fb-705c6562ab3b', 'checkpoint_ns': 'SuperBot:568dc40d-4eda-2dff-82fb-705c6562ab3b', 'ls_provider': 'ollama', 'ls_model_name': 'llama3.2', 'ls_model_type': 'chat', 'ls_temperature': None}, 'parent_ids': ['d937d269-53c1-4b72-8e8a-d62ea827782a', '76dc6793-15ce-4d49-842c-c4124238997b']}\n",
      "{'event': 'on_chat_model_stream', 'data': {'chunk': AIMessageChunk(content='?', additional_kwargs={}, response_metadata={}, id='run--7980dfa0-eddb-4c2e-bc82-10a16018ed3a')}, 'run_id': '7980dfa0-eddb-4c2e-bc82-10a16018ed3a', 'name': 'ChatOllama', 'tags': ['seq:step:1'], 'metadata': {'thread_id': '5', 'langgraph_step': 1, 'langgraph_node': 'SuperBot', 'langgraph_triggers': ('branch:to:SuperBot',), 'langgraph_path': ('__pregel_pull', 'SuperBot'), 'langgraph_checkpoint_ns': 'SuperBot:568dc40d-4eda-2dff-82fb-705c6562ab3b', 'checkpoint_ns': 'SuperBot:568dc40d-4eda-2dff-82fb-705c6562ab3b', 'ls_provider': 'ollama', 'ls_model_name': 'llama3.2', 'ls_model_type': 'chat', 'ls_temperature': None}, 'parent_ids': ['d937d269-53c1-4b72-8e8a-d62ea827782a', '76dc6793-15ce-4d49-842c-c4124238997b']}\n",
      "{'event': 'on_chat_model_stream', 'data': {'chunk': AIMessageChunk(content=' Are', additional_kwargs={}, response_metadata={}, id='run--7980dfa0-eddb-4c2e-bc82-10a16018ed3a')}, 'run_id': '7980dfa0-eddb-4c2e-bc82-10a16018ed3a', 'name': 'ChatOllama', 'tags': ['seq:step:1'], 'metadata': {'thread_id': '5', 'langgraph_step': 1, 'langgraph_node': 'SuperBot', 'langgraph_triggers': ('branch:to:SuperBot',), 'langgraph_path': ('__pregel_pull', 'SuperBot'), 'langgraph_checkpoint_ns': 'SuperBot:568dc40d-4eda-2dff-82fb-705c6562ab3b', 'checkpoint_ns': 'SuperBot:568dc40d-4eda-2dff-82fb-705c6562ab3b', 'ls_provider': 'ollama', 'ls_model_name': 'llama3.2', 'ls_model_type': 'chat', 'ls_temperature': None}, 'parent_ids': ['d937d269-53c1-4b72-8e8a-d62ea827782a', '76dc6793-15ce-4d49-842c-c4124238997b']}\n",
      "{'event': 'on_chat_model_stream', 'data': {'chunk': AIMessageChunk(content=' you', additional_kwargs={}, response_metadata={}, id='run--7980dfa0-eddb-4c2e-bc82-10a16018ed3a')}, 'run_id': '7980dfa0-eddb-4c2e-bc82-10a16018ed3a', 'name': 'ChatOllama', 'tags': ['seq:step:1'], 'metadata': {'thread_id': '5', 'langgraph_step': 1, 'langgraph_node': 'SuperBot', 'langgraph_triggers': ('branch:to:SuperBot',), 'langgraph_path': ('__pregel_pull', 'SuperBot'), 'langgraph_checkpoint_ns': 'SuperBot:568dc40d-4eda-2dff-82fb-705c6562ab3b', 'checkpoint_ns': 'SuperBot:568dc40d-4eda-2dff-82fb-705c6562ab3b', 'ls_provider': 'ollama', 'ls_model_name': 'llama3.2', 'ls_model_type': 'chat', 'ls_temperature': None}, 'parent_ids': ['d937d269-53c1-4b72-8e8a-d62ea827782a', '76dc6793-15ce-4d49-842c-c4124238997b']}\n",
      "{'event': 'on_chat_model_stream', 'data': {'chunk': AIMessageChunk(content=' a', additional_kwargs={}, response_metadata={}, id='run--7980dfa0-eddb-4c2e-bc82-10a16018ed3a')}, 'run_id': '7980dfa0-eddb-4c2e-bc82-10a16018ed3a', 'name': 'ChatOllama', 'tags': ['seq:step:1'], 'metadata': {'thread_id': '5', 'langgraph_step': 1, 'langgraph_node': 'SuperBot', 'langgraph_triggers': ('branch:to:SuperBot',), 'langgraph_path': ('__pregel_pull', 'SuperBot'), 'langgraph_checkpoint_ns': 'SuperBot:568dc40d-4eda-2dff-82fb-705c6562ab3b', 'checkpoint_ns': 'SuperBot:568dc40d-4eda-2dff-82fb-705c6562ab3b', 'ls_provider': 'ollama', 'ls_model_name': 'llama3.2', 'ls_model_type': 'chat', 'ls_temperature': None}, 'parent_ids': ['d937d269-53c1-4b72-8e8a-d62ea827782a', '76dc6793-15ce-4d49-842c-c4124238997b']}\n",
      "{'event': 'on_chat_model_stream', 'data': {'chunk': AIMessageChunk(content=' beginner', additional_kwargs={}, response_metadata={}, id='run--7980dfa0-eddb-4c2e-bc82-10a16018ed3a')}, 'run_id': '7980dfa0-eddb-4c2e-bc82-10a16018ed3a', 'name': 'ChatOllama', 'tags': ['seq:step:1'], 'metadata': {'thread_id': '5', 'langgraph_step': 1, 'langgraph_node': 'SuperBot', 'langgraph_triggers': ('branch:to:SuperBot',), 'langgraph_path': ('__pregel_pull', 'SuperBot'), 'langgraph_checkpoint_ns': 'SuperBot:568dc40d-4eda-2dff-82fb-705c6562ab3b', 'checkpoint_ns': 'SuperBot:568dc40d-4eda-2dff-82fb-705c6562ab3b', 'ls_provider': 'ollama', 'ls_model_name': 'llama3.2', 'ls_model_type': 'chat', 'ls_temperature': None}, 'parent_ids': ['d937d269-53c1-4b72-8e8a-d62ea827782a', '76dc6793-15ce-4d49-842c-c4124238997b']}\n",
      "{'event': 'on_chat_model_stream', 'data': {'chunk': AIMessageChunk(content=',', additional_kwargs={}, response_metadata={}, id='run--7980dfa0-eddb-4c2e-bc82-10a16018ed3a')}, 'run_id': '7980dfa0-eddb-4c2e-bc82-10a16018ed3a', 'name': 'ChatOllama', 'tags': ['seq:step:1'], 'metadata': {'thread_id': '5', 'langgraph_step': 1, 'langgraph_node': 'SuperBot', 'langgraph_triggers': ('branch:to:SuperBot',), 'langgraph_path': ('__pregel_pull', 'SuperBot'), 'langgraph_checkpoint_ns': 'SuperBot:568dc40d-4eda-2dff-82fb-705c6562ab3b', 'checkpoint_ns': 'SuperBot:568dc40d-4eda-2dff-82fb-705c6562ab3b', 'ls_provider': 'ollama', 'ls_model_name': 'llama3.2', 'ls_model_type': 'chat', 'ls_temperature': None}, 'parent_ids': ['d937d269-53c1-4b72-8e8a-d62ea827782a', '76dc6793-15ce-4d49-842c-c4124238997b']}\n",
      "{'event': 'on_chat_model_stream', 'data': {'chunk': AIMessageChunk(content=' intermediate', additional_kwargs={}, response_metadata={}, id='run--7980dfa0-eddb-4c2e-bc82-10a16018ed3a')}, 'run_id': '7980dfa0-eddb-4c2e-bc82-10a16018ed3a', 'name': 'ChatOllama', 'tags': ['seq:step:1'], 'metadata': {'thread_id': '5', 'langgraph_step': 1, 'langgraph_node': 'SuperBot', 'langgraph_triggers': ('branch:to:SuperBot',), 'langgraph_path': ('__pregel_pull', 'SuperBot'), 'langgraph_checkpoint_ns': 'SuperBot:568dc40d-4eda-2dff-82fb-705c6562ab3b', 'checkpoint_ns': 'SuperBot:568dc40d-4eda-2dff-82fb-705c6562ab3b', 'ls_provider': 'ollama', 'ls_model_name': 'llama3.2', 'ls_model_type': 'chat', 'ls_temperature': None}, 'parent_ids': ['d937d269-53c1-4b72-8e8a-d62ea827782a', '76dc6793-15ce-4d49-842c-c4124238997b']}\n",
      "{'event': 'on_chat_model_stream', 'data': {'chunk': AIMessageChunk(content=',', additional_kwargs={}, response_metadata={}, id='run--7980dfa0-eddb-4c2e-bc82-10a16018ed3a')}, 'run_id': '7980dfa0-eddb-4c2e-bc82-10a16018ed3a', 'name': 'ChatOllama', 'tags': ['seq:step:1'], 'metadata': {'thread_id': '5', 'langgraph_step': 1, 'langgraph_node': 'SuperBot', 'langgraph_triggers': ('branch:to:SuperBot',), 'langgraph_path': ('__pregel_pull', 'SuperBot'), 'langgraph_checkpoint_ns': 'SuperBot:568dc40d-4eda-2dff-82fb-705c6562ab3b', 'checkpoint_ns': 'SuperBot:568dc40d-4eda-2dff-82fb-705c6562ab3b', 'ls_provider': 'ollama', 'ls_model_name': 'llama3.2', 'ls_model_type': 'chat', 'ls_temperature': None}, 'parent_ids': ['d937d269-53c1-4b72-8e8a-d62ea827782a', '76dc6793-15ce-4d49-842c-c4124238997b']}\n",
      "{'event': 'on_chat_model_stream', 'data': {'chunk': AIMessageChunk(content=' or', additional_kwargs={}, response_metadata={}, id='run--7980dfa0-eddb-4c2e-bc82-10a16018ed3a')}, 'run_id': '7980dfa0-eddb-4c2e-bc82-10a16018ed3a', 'name': 'ChatOllama', 'tags': ['seq:step:1'], 'metadata': {'thread_id': '5', 'langgraph_step': 1, 'langgraph_node': 'SuperBot', 'langgraph_triggers': ('branch:to:SuperBot',), 'langgraph_path': ('__pregel_pull', 'SuperBot'), 'langgraph_checkpoint_ns': 'SuperBot:568dc40d-4eda-2dff-82fb-705c6562ab3b', 'checkpoint_ns': 'SuperBot:568dc40d-4eda-2dff-82fb-705c6562ab3b', 'ls_provider': 'ollama', 'ls_model_name': 'llama3.2', 'ls_model_type': 'chat', 'ls_temperature': None}, 'parent_ids': ['d937d269-53c1-4b72-8e8a-d62ea827782a', '76dc6793-15ce-4d49-842c-c4124238997b']}\n",
      "{'event': 'on_chat_model_stream', 'data': {'chunk': AIMessageChunk(content=' do', additional_kwargs={}, response_metadata={}, id='run--7980dfa0-eddb-4c2e-bc82-10a16018ed3a')}, 'run_id': '7980dfa0-eddb-4c2e-bc82-10a16018ed3a', 'name': 'ChatOllama', 'tags': ['seq:step:1'], 'metadata': {'thread_id': '5', 'langgraph_step': 1, 'langgraph_node': 'SuperBot', 'langgraph_triggers': ('branch:to:SuperBot',), 'langgraph_path': ('__pregel_pull', 'SuperBot'), 'langgraph_checkpoint_ns': 'SuperBot:568dc40d-4eda-2dff-82fb-705c6562ab3b', 'checkpoint_ns': 'SuperBot:568dc40d-4eda-2dff-82fb-705c6562ab3b', 'ls_provider': 'ollama', 'ls_model_name': 'llama3.2', 'ls_model_type': 'chat', 'ls_temperature': None}, 'parent_ids': ['d937d269-53c1-4b72-8e8a-d62ea827782a', '76dc6793-15ce-4d49-842c-c4124238997b']}\n",
      "{'event': 'on_chat_model_stream', 'data': {'chunk': AIMessageChunk(content=' you', additional_kwargs={}, response_metadata={}, id='run--7980dfa0-eddb-4c2e-bc82-10a16018ed3a')}, 'run_id': '7980dfa0-eddb-4c2e-bc82-10a16018ed3a', 'name': 'ChatOllama', 'tags': ['seq:step:1'], 'metadata': {'thread_id': '5', 'langgraph_step': 1, 'langgraph_node': 'SuperBot', 'langgraph_triggers': ('branch:to:SuperBot',), 'langgraph_path': ('__pregel_pull', 'SuperBot'), 'langgraph_checkpoint_ns': 'SuperBot:568dc40d-4eda-2dff-82fb-705c6562ab3b', 'checkpoint_ns': 'SuperBot:568dc40d-4eda-2dff-82fb-705c6562ab3b', 'ls_provider': 'ollama', 'ls_model_name': 'llama3.2', 'ls_model_type': 'chat', 'ls_temperature': None}, 'parent_ids': ['d937d269-53c1-4b72-8e8a-d62ea827782a', '76dc6793-15ce-4d49-842c-c4124238997b']}\n",
      "{'event': 'on_chat_model_stream', 'data': {'chunk': AIMessageChunk(content=' have', additional_kwargs={}, response_metadata={}, id='run--7980dfa0-eddb-4c2e-bc82-10a16018ed3a')}, 'run_id': '7980dfa0-eddb-4c2e-bc82-10a16018ed3a', 'name': 'ChatOllama', 'tags': ['seq:step:1'], 'metadata': {'thread_id': '5', 'langgraph_step': 1, 'langgraph_node': 'SuperBot', 'langgraph_triggers': ('branch:to:SuperBot',), 'langgraph_path': ('__pregel_pull', 'SuperBot'), 'langgraph_checkpoint_ns': 'SuperBot:568dc40d-4eda-2dff-82fb-705c6562ab3b', 'checkpoint_ns': 'SuperBot:568dc40d-4eda-2dff-82fb-705c6562ab3b', 'ls_provider': 'ollama', 'ls_model_name': 'llama3.2', 'ls_model_type': 'chat', 'ls_temperature': None}, 'parent_ids': ['d937d269-53c1-4b72-8e8a-d62ea827782a', '76dc6793-15ce-4d49-842c-c4124238997b']}\n",
      "{'event': 'on_chat_model_stream', 'data': {'chunk': AIMessageChunk(content=' some', additional_kwargs={}, response_metadata={}, id='run--7980dfa0-eddb-4c2e-bc82-10a16018ed3a')}, 'run_id': '7980dfa0-eddb-4c2e-bc82-10a16018ed3a', 'name': 'ChatOllama', 'tags': ['seq:step:1'], 'metadata': {'thread_id': '5', 'langgraph_step': 1, 'langgraph_node': 'SuperBot', 'langgraph_triggers': ('branch:to:SuperBot',), 'langgraph_path': ('__pregel_pull', 'SuperBot'), 'langgraph_checkpoint_ns': 'SuperBot:568dc40d-4eda-2dff-82fb-705c6562ab3b', 'checkpoint_ns': 'SuperBot:568dc40d-4eda-2dff-82fb-705c6562ab3b', 'ls_provider': 'ollama', 'ls_model_name': 'llama3.2', 'ls_model_type': 'chat', 'ls_temperature': None}, 'parent_ids': ['d937d269-53c1-4b72-8e8a-d62ea827782a', '76dc6793-15ce-4d49-842c-c4124238997b']}\n",
      "{'event': 'on_chat_model_stream', 'data': {'chunk': AIMessageChunk(content=' experience', additional_kwargs={}, response_metadata={}, id='run--7980dfa0-eddb-4c2e-bc82-10a16018ed3a')}, 'run_id': '7980dfa0-eddb-4c2e-bc82-10a16018ed3a', 'name': 'ChatOllama', 'tags': ['seq:step:1'], 'metadata': {'thread_id': '5', 'langgraph_step': 1, 'langgraph_node': 'SuperBot', 'langgraph_triggers': ('branch:to:SuperBot',), 'langgraph_path': ('__pregel_pull', 'SuperBot'), 'langgraph_checkpoint_ns': 'SuperBot:568dc40d-4eda-2dff-82fb-705c6562ab3b', 'checkpoint_ns': 'SuperBot:568dc40d-4eda-2dff-82fb-705c6562ab3b', 'ls_provider': 'ollama', 'ls_model_name': 'llama3.2', 'ls_model_type': 'chat', 'ls_temperature': None}, 'parent_ids': ['d937d269-53c1-4b72-8e8a-d62ea827782a', '76dc6793-15ce-4d49-842c-c4124238997b']}\n",
      "{'event': 'on_chat_model_stream', 'data': {'chunk': AIMessageChunk(content=' playing', additional_kwargs={}, response_metadata={}, id='run--7980dfa0-eddb-4c2e-bc82-10a16018ed3a')}, 'run_id': '7980dfa0-eddb-4c2e-bc82-10a16018ed3a', 'name': 'ChatOllama', 'tags': ['seq:step:1'], 'metadata': {'thread_id': '5', 'langgraph_step': 1, 'langgraph_node': 'SuperBot', 'langgraph_triggers': ('branch:to:SuperBot',), 'langgraph_path': ('__pregel_pull', 'SuperBot'), 'langgraph_checkpoint_ns': 'SuperBot:568dc40d-4eda-2dff-82fb-705c6562ab3b', 'checkpoint_ns': 'SuperBot:568dc40d-4eda-2dff-82fb-705c6562ab3b', 'ls_provider': 'ollama', 'ls_model_name': 'llama3.2', 'ls_model_type': 'chat', 'ls_temperature': None}, 'parent_ids': ['d937d269-53c1-4b72-8e8a-d62ea827782a', '76dc6793-15ce-4d49-842c-c4124238997b']}\n",
      "{'event': 'on_chat_model_stream', 'data': {'chunk': AIMessageChunk(content=' the', additional_kwargs={}, response_metadata={}, id='run--7980dfa0-eddb-4c2e-bc82-10a16018ed3a')}, 'run_id': '7980dfa0-eddb-4c2e-bc82-10a16018ed3a', 'name': 'ChatOllama', 'tags': ['seq:step:1'], 'metadata': {'thread_id': '5', 'langgraph_step': 1, 'langgraph_node': 'SuperBot', 'langgraph_triggers': ('branch:to:SuperBot',), 'langgraph_path': ('__pregel_pull', 'SuperBot'), 'langgraph_checkpoint_ns': 'SuperBot:568dc40d-4eda-2dff-82fb-705c6562ab3b', 'checkpoint_ns': 'SuperBot:568dc40d-4eda-2dff-82fb-705c6562ab3b', 'ls_provider': 'ollama', 'ls_model_name': 'llama3.2', 'ls_model_type': 'chat', 'ls_temperature': None}, 'parent_ids': ['d937d269-53c1-4b72-8e8a-d62ea827782a', '76dc6793-15ce-4d49-842c-c4124238997b']}\n",
      "{'event': 'on_chat_model_stream', 'data': {'chunk': AIMessageChunk(content=' game', additional_kwargs={}, response_metadata={}, id='run--7980dfa0-eddb-4c2e-bc82-10a16018ed3a')}, 'run_id': '7980dfa0-eddb-4c2e-bc82-10a16018ed3a', 'name': 'ChatOllama', 'tags': ['seq:step:1'], 'metadata': {'thread_id': '5', 'langgraph_step': 1, 'langgraph_node': 'SuperBot', 'langgraph_triggers': ('branch:to:SuperBot',), 'langgraph_path': ('__pregel_pull', 'SuperBot'), 'langgraph_checkpoint_ns': 'SuperBot:568dc40d-4eda-2dff-82fb-705c6562ab3b', 'checkpoint_ns': 'SuperBot:568dc40d-4eda-2dff-82fb-705c6562ab3b', 'ls_provider': 'ollama', 'ls_model_name': 'llama3.2', 'ls_model_type': 'chat', 'ls_temperature': None}, 'parent_ids': ['d937d269-53c1-4b72-8e8a-d62ea827782a', '76dc6793-15ce-4d49-842c-c4124238997b']}\n",
      "{'event': 'on_chat_model_stream', 'data': {'chunk': AIMessageChunk(content='?', additional_kwargs={}, response_metadata={}, id='run--7980dfa0-eddb-4c2e-bc82-10a16018ed3a')}, 'run_id': '7980dfa0-eddb-4c2e-bc82-10a16018ed3a', 'name': 'ChatOllama', 'tags': ['seq:step:1'], 'metadata': {'thread_id': '5', 'langgraph_step': 1, 'langgraph_node': 'SuperBot', 'langgraph_triggers': ('branch:to:SuperBot',), 'langgraph_path': ('__pregel_pull', 'SuperBot'), 'langgraph_checkpoint_ns': 'SuperBot:568dc40d-4eda-2dff-82fb-705c6562ab3b', 'checkpoint_ns': 'SuperBot:568dc40d-4eda-2dff-82fb-705c6562ab3b', 'ls_provider': 'ollama', 'ls_model_name': 'llama3.2', 'ls_model_type': 'chat', 'ls_temperature': None}, 'parent_ids': ['d937d269-53c1-4b72-8e8a-d62ea827782a', '76dc6793-15ce-4d49-842c-c4124238997b']}\n",
      "{'event': 'on_chat_model_stream', 'data': {'chunk': AIMessageChunk(content='', additional_kwargs={}, response_metadata={'model': 'llama3.2', 'created_at': '2025-08-24T12:32:27.465517Z', 'done': True, 'done_reason': 'stop', 'total_duration': 2750355584, 'load_duration': 63075084, 'prompt_eval_count': 36, 'prompt_eval_duration': 518885625, 'eval_count': 79, 'eval_duration': 2167378416, 'model_name': 'llama3.2'}, id='run--7980dfa0-eddb-4c2e-bc82-10a16018ed3a', usage_metadata={'input_tokens': 36, 'output_tokens': 79, 'total_tokens': 115})}, 'run_id': '7980dfa0-eddb-4c2e-bc82-10a16018ed3a', 'name': 'ChatOllama', 'tags': ['seq:step:1'], 'metadata': {'thread_id': '5', 'langgraph_step': 1, 'langgraph_node': 'SuperBot', 'langgraph_triggers': ('branch:to:SuperBot',), 'langgraph_path': ('__pregel_pull', 'SuperBot'), 'langgraph_checkpoint_ns': 'SuperBot:568dc40d-4eda-2dff-82fb-705c6562ab3b', 'checkpoint_ns': 'SuperBot:568dc40d-4eda-2dff-82fb-705c6562ab3b', 'ls_provider': 'ollama', 'ls_model_name': 'llama3.2', 'ls_model_type': 'chat', 'ls_temperature': None}, 'parent_ids': ['d937d269-53c1-4b72-8e8a-d62ea827782a', '76dc6793-15ce-4d49-842c-c4124238997b']}\n",
      "{'event': 'on_chat_model_end', 'data': {'output': AIMessage(content=\"Nice to meet you, Krish! Cricket is an amazing sport, isn't it? What's your favorite aspect of the game - batting, bowling, or fielding? Do you have a favorite team or player that you look up to?\\n\\nBy the way, what's your current skill level in cricket? Are you a beginner, intermediate, or do you have some experience playing the game?\", additional_kwargs={}, response_metadata={'model': 'llama3.2', 'created_at': '2025-08-24T12:32:27.465517Z', 'done': True, 'done_reason': 'stop', 'total_duration': 2750355584, 'load_duration': 63075084, 'prompt_eval_count': 36, 'prompt_eval_duration': 518885625, 'eval_count': 79, 'eval_duration': 2167378416, 'model_name': 'llama3.2'}, id='run--7980dfa0-eddb-4c2e-bc82-10a16018ed3a', usage_metadata={'input_tokens': 36, 'output_tokens': 79, 'total_tokens': 115}), 'input': {'messages': [[HumanMessage(content='Hi My name is Krish and I like to play cricket', additional_kwargs={}, response_metadata={}, id='44fe9f9b-03ed-48af-8288-eaa7edb83daa')]]}}, 'run_id': '7980dfa0-eddb-4c2e-bc82-10a16018ed3a', 'name': 'ChatOllama', 'tags': ['seq:step:1'], 'metadata': {'thread_id': '5', 'langgraph_step': 1, 'langgraph_node': 'SuperBot', 'langgraph_triggers': ('branch:to:SuperBot',), 'langgraph_path': ('__pregel_pull', 'SuperBot'), 'langgraph_checkpoint_ns': 'SuperBot:568dc40d-4eda-2dff-82fb-705c6562ab3b', 'checkpoint_ns': 'SuperBot:568dc40d-4eda-2dff-82fb-705c6562ab3b', 'ls_provider': 'ollama', 'ls_model_name': 'llama3.2', 'ls_model_type': 'chat', 'ls_temperature': None}, 'parent_ids': ['d937d269-53c1-4b72-8e8a-d62ea827782a', '76dc6793-15ce-4d49-842c-c4124238997b']}\n",
      "{'event': 'on_chain_stream', 'run_id': '76dc6793-15ce-4d49-842c-c4124238997b', 'name': 'SuperBot', 'tags': ['graph:step:1'], 'metadata': {'thread_id': '5', 'langgraph_step': 1, 'langgraph_node': 'SuperBot', 'langgraph_triggers': ('branch:to:SuperBot',), 'langgraph_path': ('__pregel_pull', 'SuperBot'), 'langgraph_checkpoint_ns': 'SuperBot:568dc40d-4eda-2dff-82fb-705c6562ab3b'}, 'data': {'chunk': {'messages': [AIMessage(content=\"Nice to meet you, Krish! Cricket is an amazing sport, isn't it? What's your favorite aspect of the game - batting, bowling, or fielding? Do you have a favorite team or player that you look up to?\\n\\nBy the way, what's your current skill level in cricket? Are you a beginner, intermediate, or do you have some experience playing the game?\", additional_kwargs={}, response_metadata={'model': 'llama3.2', 'created_at': '2025-08-24T12:32:27.465517Z', 'done': True, 'done_reason': 'stop', 'total_duration': 2750355584, 'load_duration': 63075084, 'prompt_eval_count': 36, 'prompt_eval_duration': 518885625, 'eval_count': 79, 'eval_duration': 2167378416, 'model_name': 'llama3.2'}, id='run--7980dfa0-eddb-4c2e-bc82-10a16018ed3a', usage_metadata={'input_tokens': 36, 'output_tokens': 79, 'total_tokens': 115})]}}, 'parent_ids': ['d937d269-53c1-4b72-8e8a-d62ea827782a']}\n",
      "{'event': 'on_chain_end', 'data': {'output': {'messages': [AIMessage(content=\"Nice to meet you, Krish! Cricket is an amazing sport, isn't it? What's your favorite aspect of the game - batting, bowling, or fielding? Do you have a favorite team or player that you look up to?\\n\\nBy the way, what's your current skill level in cricket? Are you a beginner, intermediate, or do you have some experience playing the game?\", additional_kwargs={}, response_metadata={'model': 'llama3.2', 'created_at': '2025-08-24T12:32:27.465517Z', 'done': True, 'done_reason': 'stop', 'total_duration': 2750355584, 'load_duration': 63075084, 'prompt_eval_count': 36, 'prompt_eval_duration': 518885625, 'eval_count': 79, 'eval_duration': 2167378416, 'model_name': 'llama3.2'}, id='run--7980dfa0-eddb-4c2e-bc82-10a16018ed3a', usage_metadata={'input_tokens': 36, 'output_tokens': 79, 'total_tokens': 115})]}, 'input': {'messages': [HumanMessage(content='Hi My name is Krish and I like to play cricket', additional_kwargs={}, response_metadata={}, id='44fe9f9b-03ed-48af-8288-eaa7edb83daa')]}}, 'run_id': '76dc6793-15ce-4d49-842c-c4124238997b', 'name': 'SuperBot', 'tags': ['graph:step:1'], 'metadata': {'thread_id': '5', 'langgraph_step': 1, 'langgraph_node': 'SuperBot', 'langgraph_triggers': ('branch:to:SuperBot',), 'langgraph_path': ('__pregel_pull', 'SuperBot'), 'langgraph_checkpoint_ns': 'SuperBot:568dc40d-4eda-2dff-82fb-705c6562ab3b'}, 'parent_ids': ['d937d269-53c1-4b72-8e8a-d62ea827782a']}\n",
      "{'event': 'on_chain_stream', 'run_id': 'd937d269-53c1-4b72-8e8a-d62ea827782a', 'name': 'LangGraph', 'tags': [], 'metadata': {'thread_id': '5'}, 'data': {'chunk': {'SuperBot': {'messages': [AIMessage(content=\"Nice to meet you, Krish! Cricket is an amazing sport, isn't it? What's your favorite aspect of the game - batting, bowling, or fielding? Do you have a favorite team or player that you look up to?\\n\\nBy the way, what's your current skill level in cricket? Are you a beginner, intermediate, or do you have some experience playing the game?\", additional_kwargs={}, response_metadata={'model': 'llama3.2', 'created_at': '2025-08-24T12:32:27.465517Z', 'done': True, 'done_reason': 'stop', 'total_duration': 2750355584, 'load_duration': 63075084, 'prompt_eval_count': 36, 'prompt_eval_duration': 518885625, 'eval_count': 79, 'eval_duration': 2167378416, 'model_name': 'llama3.2'}, id='run--7980dfa0-eddb-4c2e-bc82-10a16018ed3a', usage_metadata={'input_tokens': 36, 'output_tokens': 79, 'total_tokens': 115})]}}}, 'parent_ids': []}\n",
      "{'event': 'on_chain_end', 'data': {'output': {'messages': [HumanMessage(content='Hi My name is Krish and I like to play cricket', additional_kwargs={}, response_metadata={}, id='44fe9f9b-03ed-48af-8288-eaa7edb83daa'), AIMessage(content=\"Nice to meet you, Krish! Cricket is an amazing sport, isn't it? What's your favorite aspect of the game - batting, bowling, or fielding? Do you have a favorite team or player that you look up to?\\n\\nBy the way, what's your current skill level in cricket? Are you a beginner, intermediate, or do you have some experience playing the game?\", additional_kwargs={}, response_metadata={'model': 'llama3.2', 'created_at': '2025-08-24T12:32:27.465517Z', 'done': True, 'done_reason': 'stop', 'total_duration': 2750355584, 'load_duration': 63075084, 'prompt_eval_count': 36, 'prompt_eval_duration': 518885625, 'eval_count': 79, 'eval_duration': 2167378416, 'model_name': 'llama3.2'}, id='run--7980dfa0-eddb-4c2e-bc82-10a16018ed3a', usage_metadata={'input_tokens': 36, 'output_tokens': 79, 'total_tokens': 115})]}}, 'run_id': 'd937d269-53c1-4b72-8e8a-d62ea827782a', 'name': 'LangGraph', 'tags': [], 'metadata': {'thread_id': '5'}, 'parent_ids': []}\n"
     ]
    }
   ],
   "source": [
    "config = {\"configurable\": {\"thread_id\": \"5\"}}\n",
    "\n",
    "async for event in graph_builder.astream_events(\n",
    "    {\"messages\": [\"Hi My name is Krish and I like to play cricket\"]},\n",
    "    config,\n",
    "    version=\"v2\",\n",
    "):\n",
    "    print(event)\n"
   ]
  }
 ],
 "metadata": {
  "kernelspec": {
   "display_name": "Agentic-LanggraphCrash-course",
   "language": "python",
   "name": "python3"
  },
  "language_info": {
   "codemirror_mode": {
    "name": "ipython",
    "version": 3
   },
   "file_extension": ".py",
   "mimetype": "text/x-python",
   "name": "python",
   "nbconvert_exporter": "python",
   "pygments_lexer": "ipython3",
   "version": "3.12.9"
  }
 },
 "nbformat": 4,
 "nbformat_minor": 5
}
